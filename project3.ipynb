{
 "cells": [
  {
   "cell_type": "markdown",
   "metadata": {},
   "source": [
    "### Avocado Dataset Analysis and ML Prediction\n",
    "\n",
    "#### Problem statement:\n",
    "- Task 1: predicting the Average Price based on different features\n",
    "- Task 2: predicting the region "
   ]
  },
  {
   "cell_type": "markdown",
   "metadata": {},
   "source": [
    "##### Importing necessary libraries"
   ]
  },
  {
   "cell_type": "code",
   "execution_count": 2,
   "metadata": {},
   "outputs": [],
   "source": [
    "import pandas as pd\n",
    "import numpy as np\n",
    "import matplotlib.pyplot as plt\n",
    "import seaborn as sns"
   ]
  },
  {
   "cell_type": "code",
   "execution_count": 3,
   "metadata": {},
   "outputs": [
    {
     "data": {
      "text/html": [
       "<div>\n",
       "<style scoped>\n",
       "    .dataframe tbody tr th:only-of-type {\n",
       "        vertical-align: middle;\n",
       "    }\n",
       "\n",
       "    .dataframe tbody tr th {\n",
       "        vertical-align: top;\n",
       "    }\n",
       "\n",
       "    .dataframe thead th {\n",
       "        text-align: right;\n",
       "    }\n",
       "</style>\n",
       "<table border=\"1\" class=\"dataframe\">\n",
       "  <thead>\n",
       "    <tr style=\"text-align: right;\">\n",
       "      <th></th>\n",
       "      <th>Sno</th>\n",
       "      <th>Date</th>\n",
       "      <th>AveragePrice</th>\n",
       "      <th>Total Volume</th>\n",
       "      <th>4046</th>\n",
       "      <th>4225</th>\n",
       "      <th>4770</th>\n",
       "      <th>Total Bags</th>\n",
       "      <th>Small Bags</th>\n",
       "      <th>Large Bags</th>\n",
       "      <th>XLarge Bags</th>\n",
       "      <th>type</th>\n",
       "      <th>year</th>\n",
       "      <th>region</th>\n",
       "    </tr>\n",
       "  </thead>\n",
       "  <tbody>\n",
       "    <tr>\n",
       "      <th>0</th>\n",
       "      <td>0</td>\n",
       "      <td>27-12-2015</td>\n",
       "      <td>1.33</td>\n",
       "      <td>64236.62</td>\n",
       "      <td>1036.74</td>\n",
       "      <td>54454.85</td>\n",
       "      <td>48.16</td>\n",
       "      <td>8696.87</td>\n",
       "      <td>8603.62</td>\n",
       "      <td>93.25</td>\n",
       "      <td>0.0</td>\n",
       "      <td>conventional</td>\n",
       "      <td>2015</td>\n",
       "      <td>Albany</td>\n",
       "    </tr>\n",
       "    <tr>\n",
       "      <th>1</th>\n",
       "      <td>1</td>\n",
       "      <td>20-12-2015</td>\n",
       "      <td>1.35</td>\n",
       "      <td>54876.98</td>\n",
       "      <td>674.28</td>\n",
       "      <td>44638.81</td>\n",
       "      <td>58.33</td>\n",
       "      <td>9505.56</td>\n",
       "      <td>9408.07</td>\n",
       "      <td>97.49</td>\n",
       "      <td>0.0</td>\n",
       "      <td>conventional</td>\n",
       "      <td>2015</td>\n",
       "      <td>Albany</td>\n",
       "    </tr>\n",
       "    <tr>\n",
       "      <th>2</th>\n",
       "      <td>2</td>\n",
       "      <td>13-12-2015</td>\n",
       "      <td>0.93</td>\n",
       "      <td>118220.22</td>\n",
       "      <td>794.70</td>\n",
       "      <td>109149.67</td>\n",
       "      <td>130.50</td>\n",
       "      <td>8145.35</td>\n",
       "      <td>8042.21</td>\n",
       "      <td>103.14</td>\n",
       "      <td>0.0</td>\n",
       "      <td>conventional</td>\n",
       "      <td>2015</td>\n",
       "      <td>Albany</td>\n",
       "    </tr>\n",
       "    <tr>\n",
       "      <th>3</th>\n",
       "      <td>3</td>\n",
       "      <td>06-12-2015</td>\n",
       "      <td>1.08</td>\n",
       "      <td>78992.15</td>\n",
       "      <td>1132.00</td>\n",
       "      <td>71976.41</td>\n",
       "      <td>72.58</td>\n",
       "      <td>5811.16</td>\n",
       "      <td>5677.40</td>\n",
       "      <td>133.76</td>\n",
       "      <td>0.0</td>\n",
       "      <td>conventional</td>\n",
       "      <td>2015</td>\n",
       "      <td>Albany</td>\n",
       "    </tr>\n",
       "    <tr>\n",
       "      <th>4</th>\n",
       "      <td>4</td>\n",
       "      <td>29-11-2015</td>\n",
       "      <td>1.28</td>\n",
       "      <td>51039.60</td>\n",
       "      <td>941.48</td>\n",
       "      <td>43838.39</td>\n",
       "      <td>75.78</td>\n",
       "      <td>6183.95</td>\n",
       "      <td>5986.26</td>\n",
       "      <td>197.69</td>\n",
       "      <td>0.0</td>\n",
       "      <td>conventional</td>\n",
       "      <td>2015</td>\n",
       "      <td>Albany</td>\n",
       "    </tr>\n",
       "  </tbody>\n",
       "</table>\n",
       "</div>"
      ],
      "text/plain": [
       "   Sno        Date  AveragePrice  Total Volume     4046       4225    4770  \\\n",
       "0    0  27-12-2015          1.33      64236.62  1036.74   54454.85   48.16   \n",
       "1    1  20-12-2015          1.35      54876.98   674.28   44638.81   58.33   \n",
       "2    2  13-12-2015          0.93     118220.22   794.70  109149.67  130.50   \n",
       "3    3  06-12-2015          1.08      78992.15  1132.00   71976.41   72.58   \n",
       "4    4  29-11-2015          1.28      51039.60   941.48   43838.39   75.78   \n",
       "\n",
       "   Total Bags  Small Bags  Large Bags  XLarge Bags          type  year  region  \n",
       "0     8696.87     8603.62       93.25          0.0  conventional  2015  Albany  \n",
       "1     9505.56     9408.07       97.49          0.0  conventional  2015  Albany  \n",
       "2     8145.35     8042.21      103.14          0.0  conventional  2015  Albany  \n",
       "3     5811.16     5677.40      133.76          0.0  conventional  2015  Albany  \n",
       "4     6183.95     5986.26      197.69          0.0  conventional  2015  Albany  "
      ]
     },
     "execution_count": 3,
     "metadata": {},
     "output_type": "execute_result"
    }
   ],
   "source": [
    "# reading the dataset\n",
    "df_a=pd.read_csv(\"project3.csv\")\n",
    "df_a.head() # Will give you first 5 records"
   ]
  },
  {
   "cell_type": "code",
   "execution_count": 4,
   "metadata": {},
   "outputs": [
    {
     "data": {
      "text/plain": [
       "Sno             0\n",
       "Date            0\n",
       "AveragePrice    0\n",
       "Total Volume    0\n",
       "4046            0\n",
       "4225            0\n",
       "4770            0\n",
       "Total Bags      0\n",
       "Small Bags      0\n",
       "Large Bags      0\n",
       "XLarge Bags     0\n",
       "type            0\n",
       "year            0\n",
       "region          0\n",
       "dtype: int64"
      ]
     },
     "execution_count": 4,
     "metadata": {},
     "output_type": "execute_result"
    }
   ],
   "source": [
    "df_a.isnull().sum() # will check the null values"
   ]
  },
  {
   "cell_type": "code",
   "execution_count": 5,
   "metadata": {},
   "outputs": [
    {
     "data": {
      "text/plain": [
       "(1517, 14)"
      ]
     },
     "execution_count": 5,
     "metadata": {},
     "output_type": "execute_result"
    }
   ],
   "source": [
    "df_a.shape #shape of dataset"
   ]
  },
  {
   "cell_type": "code",
   "execution_count": 6,
   "metadata": {},
   "outputs": [
    {
     "data": {
      "text/html": [
       "<div>\n",
       "<style scoped>\n",
       "    .dataframe tbody tr th:only-of-type {\n",
       "        vertical-align: middle;\n",
       "    }\n",
       "\n",
       "    .dataframe tbody tr th {\n",
       "        vertical-align: top;\n",
       "    }\n",
       "\n",
       "    .dataframe thead th {\n",
       "        text-align: right;\n",
       "    }\n",
       "</style>\n",
       "<table border=\"1\" class=\"dataframe\">\n",
       "  <thead>\n",
       "    <tr style=\"text-align: right;\">\n",
       "      <th></th>\n",
       "      <th>Sno</th>\n",
       "      <th>Date</th>\n",
       "      <th>AveragePrice</th>\n",
       "      <th>Total Volume</th>\n",
       "      <th>4046</th>\n",
       "      <th>4225</th>\n",
       "      <th>4770</th>\n",
       "      <th>Total Bags</th>\n",
       "      <th>Small Bags</th>\n",
       "      <th>Large Bags</th>\n",
       "      <th>XLarge Bags</th>\n",
       "      <th>type</th>\n",
       "      <th>year</th>\n",
       "      <th>region</th>\n",
       "    </tr>\n",
       "  </thead>\n",
       "  <tbody>\n",
       "    <tr>\n",
       "      <th>1512</th>\n",
       "      <td>10</td>\n",
       "      <td>16-10-2016</td>\n",
       "      <td>1.39</td>\n",
       "      <td>190846.01</td>\n",
       "      <td>57529.11</td>\n",
       "      <td>56366.66</td>\n",
       "      <td>17531.78</td>\n",
       "      <td>59418.46</td>\n",
       "      <td>48823.53</td>\n",
       "      <td>10354.65</td>\n",
       "      <td>240.28</td>\n",
       "      <td>conventional</td>\n",
       "      <td>2016</td>\n",
       "      <td>Charlotte</td>\n",
       "    </tr>\n",
       "    <tr>\n",
       "      <th>1513</th>\n",
       "      <td>11</td>\n",
       "      <td>09-10-2016</td>\n",
       "      <td>1.51</td>\n",
       "      <td>178235.75</td>\n",
       "      <td>43325.87</td>\n",
       "      <td>52189.61</td>\n",
       "      <td>19419.57</td>\n",
       "      <td>63300.70</td>\n",
       "      <td>54704.14</td>\n",
       "      <td>8596.56</td>\n",
       "      <td>0.00</td>\n",
       "      <td>conventional</td>\n",
       "      <td>2016</td>\n",
       "      <td>Charlotte</td>\n",
       "    </tr>\n",
       "    <tr>\n",
       "      <th>1514</th>\n",
       "      <td>12</td>\n",
       "      <td>02-10-2016</td>\n",
       "      <td>1.48</td>\n",
       "      <td>178410.82</td>\n",
       "      <td>46364.75</td>\n",
       "      <td>52893.38</td>\n",
       "      <td>16736.92</td>\n",
       "      <td>62415.77</td>\n",
       "      <td>53332.61</td>\n",
       "      <td>8258.16</td>\n",
       "      <td>825.00</td>\n",
       "      <td>conventional</td>\n",
       "      <td>2016</td>\n",
       "      <td>Charlotte</td>\n",
       "    </tr>\n",
       "    <tr>\n",
       "      <th>1515</th>\n",
       "      <td>13</td>\n",
       "      <td>25-09-2016</td>\n",
       "      <td>1.47</td>\n",
       "      <td>189131.52</td>\n",
       "      <td>54110.79</td>\n",
       "      <td>53593.58</td>\n",
       "      <td>17495.42</td>\n",
       "      <td>63931.73</td>\n",
       "      <td>55653.47</td>\n",
       "      <td>8278.26</td>\n",
       "      <td>0.00</td>\n",
       "      <td>conventional</td>\n",
       "      <td>2016</td>\n",
       "      <td>Charlotte</td>\n",
       "    </tr>\n",
       "    <tr>\n",
       "      <th>1516</th>\n",
       "      <td>14</td>\n",
       "      <td>18-09-2016</td>\n",
       "      <td>1.43</td>\n",
       "      <td>182978.30</td>\n",
       "      <td>43116.41</td>\n",
       "      <td>54193.42</td>\n",
       "      <td>16563.91</td>\n",
       "      <td>69104.56</td>\n",
       "      <td>57456.21</td>\n",
       "      <td>11648.35</td>\n",
       "      <td>0.00</td>\n",
       "      <td>conventional</td>\n",
       "      <td>2016</td>\n",
       "      <td>Charlotte</td>\n",
       "    </tr>\n",
       "  </tbody>\n",
       "</table>\n",
       "</div>"
      ],
      "text/plain": [
       "      Sno        Date  AveragePrice  Total Volume      4046      4225  \\\n",
       "1512   10  16-10-2016          1.39     190846.01  57529.11  56366.66   \n",
       "1513   11  09-10-2016          1.51     178235.75  43325.87  52189.61   \n",
       "1514   12  02-10-2016          1.48     178410.82  46364.75  52893.38   \n",
       "1515   13  25-09-2016          1.47     189131.52  54110.79  53593.58   \n",
       "1516   14  18-09-2016          1.43     182978.30  43116.41  54193.42   \n",
       "\n",
       "          4770  Total Bags  Small Bags  Large Bags  XLarge Bags          type  \\\n",
       "1512  17531.78    59418.46    48823.53    10354.65       240.28  conventional   \n",
       "1513  19419.57    63300.70    54704.14     8596.56         0.00  conventional   \n",
       "1514  16736.92    62415.77    53332.61     8258.16       825.00  conventional   \n",
       "1515  17495.42    63931.73    55653.47     8278.26         0.00  conventional   \n",
       "1516  16563.91    69104.56    57456.21    11648.35         0.00  conventional   \n",
       "\n",
       "      year     region  \n",
       "1512  2016  Charlotte  \n",
       "1513  2016  Charlotte  \n",
       "1514  2016  Charlotte  \n",
       "1515  2016  Charlotte  \n",
       "1516  2016  Charlotte  "
      ]
     },
     "execution_count": 6,
     "metadata": {},
     "output_type": "execute_result"
    }
   ],
   "source": [
    "df_a.tail() # prints the last 5 rows of the dataset "
   ]
  },
  {
   "cell_type": "code",
   "execution_count": 7,
   "metadata": {},
   "outputs": [],
   "source": [
    "df_a.drop(\"Sno\",axis=1,inplace=True) # dropping the unneccesary column \"Sno\""
   ]
  },
  {
   "cell_type": "code",
   "execution_count": 8,
   "metadata": {},
   "outputs": [
    {
     "data": {
      "text/plain": [
       "Date             object\n",
       "AveragePrice    float64\n",
       "Total Volume    float64\n",
       "4046            float64\n",
       "4225            float64\n",
       "4770            float64\n",
       "Total Bags      float64\n",
       "Small Bags      float64\n",
       "Large Bags      float64\n",
       "XLarge Bags     float64\n",
       "type             object\n",
       "year              int64\n",
       "region           object\n",
       "dtype: object"
      ]
     },
     "execution_count": 8,
     "metadata": {},
     "output_type": "execute_result"
    }
   ],
   "source": [
    "#looking for the data types.And we can observe that date is not in datetime \n",
    "df_a.dtypes"
   ]
  },
  {
   "cell_type": "code",
   "execution_count": 9,
   "metadata": {},
   "outputs": [],
   "source": [
    "df_a['Date'] =  pd.to_datetime(df_a['Date'], format='%d-%m-%Y') # converting datatype of Date column from object to datetime"
   ]
  },
  {
   "cell_type": "code",
   "execution_count": 10,
   "metadata": {},
   "outputs": [
    {
     "data": {
      "text/plain": [
       "Date            datetime64[ns]\n",
       "AveragePrice           float64\n",
       "Total Volume           float64\n",
       "4046                   float64\n",
       "4225                   float64\n",
       "4770                   float64\n",
       "Total Bags             float64\n",
       "Small Bags             float64\n",
       "Large Bags             float64\n",
       "XLarge Bags            float64\n",
       "type                    object\n",
       "year                     int64\n",
       "region                  object\n",
       "dtype: object"
      ]
     },
     "execution_count": 10,
     "metadata": {},
     "output_type": "execute_result"
    }
   ],
   "source": [
    "df_a.dtypes"
   ]
  },
  {
   "cell_type": "code",
   "execution_count": 11,
   "metadata": {},
   "outputs": [
    {
     "data": {
      "text/html": [
       "<div>\n",
       "<style scoped>\n",
       "    .dataframe tbody tr th:only-of-type {\n",
       "        vertical-align: middle;\n",
       "    }\n",
       "\n",
       "    .dataframe tbody tr th {\n",
       "        vertical-align: top;\n",
       "    }\n",
       "\n",
       "    .dataframe thead th {\n",
       "        text-align: right;\n",
       "    }\n",
       "</style>\n",
       "<table border=\"1\" class=\"dataframe\">\n",
       "  <thead>\n",
       "    <tr style=\"text-align: right;\">\n",
       "      <th></th>\n",
       "      <th>AveragePrice</th>\n",
       "      <th>Total Volume</th>\n",
       "      <th>4046</th>\n",
       "      <th>4225</th>\n",
       "      <th>4770</th>\n",
       "      <th>Total Bags</th>\n",
       "      <th>Small Bags</th>\n",
       "      <th>Large Bags</th>\n",
       "      <th>XLarge Bags</th>\n",
       "      <th>year</th>\n",
       "    </tr>\n",
       "  </thead>\n",
       "  <tbody>\n",
       "    <tr>\n",
       "      <th>count</th>\n",
       "      <td>1517.000000</td>\n",
       "      <td>1.517000e+03</td>\n",
       "      <td>1.517000e+03</td>\n",
       "      <td>1.517000e+03</td>\n",
       "      <td>1.517000e+03</td>\n",
       "      <td>1.517000e+03</td>\n",
       "      <td>1.517000e+03</td>\n",
       "      <td>1.517000e+03</td>\n",
       "      <td>1517.000000</td>\n",
       "      <td>1517.000000</td>\n",
       "    </tr>\n",
       "    <tr>\n",
       "      <th>mean</th>\n",
       "      <td>1.074990</td>\n",
       "      <td>1.601879e+06</td>\n",
       "      <td>6.464387e+05</td>\n",
       "      <td>6.114375e+05</td>\n",
       "      <td>5.040550e+04</td>\n",
       "      <td>2.935974e+05</td>\n",
       "      <td>2.487736e+05</td>\n",
       "      <td>4.264205e+04</td>\n",
       "      <td>2181.771074</td>\n",
       "      <td>2015.162821</td>\n",
       "    </tr>\n",
       "    <tr>\n",
       "      <th>std</th>\n",
       "      <td>0.188891</td>\n",
       "      <td>4.433143e+06</td>\n",
       "      <td>1.947614e+06</td>\n",
       "      <td>1.672906e+06</td>\n",
       "      <td>1.377812e+05</td>\n",
       "      <td>7.579765e+05</td>\n",
       "      <td>6.474765e+05</td>\n",
       "      <td>1.182157e+05</td>\n",
       "      <td>7455.712144</td>\n",
       "      <td>0.369324</td>\n",
       "    </tr>\n",
       "    <tr>\n",
       "      <th>min</th>\n",
       "      <td>0.490000</td>\n",
       "      <td>3.875074e+04</td>\n",
       "      <td>4.677200e+02</td>\n",
       "      <td>1.783770e+03</td>\n",
       "      <td>0.000000e+00</td>\n",
       "      <td>3.311770e+03</td>\n",
       "      <td>3.311770e+03</td>\n",
       "      <td>0.000000e+00</td>\n",
       "      <td>0.000000</td>\n",
       "      <td>2015.000000</td>\n",
       "    </tr>\n",
       "    <tr>\n",
       "      <th>25%</th>\n",
       "      <td>0.980000</td>\n",
       "      <td>1.474700e+05</td>\n",
       "      <td>2.040034e+04</td>\n",
       "      <td>4.147606e+04</td>\n",
       "      <td>9.112500e+02</td>\n",
       "      <td>3.620689e+04</td>\n",
       "      <td>2.972722e+04</td>\n",
       "      <td>5.407400e+02</td>\n",
       "      <td>0.000000</td>\n",
       "      <td>2015.000000</td>\n",
       "    </tr>\n",
       "    <tr>\n",
       "      <th>50%</th>\n",
       "      <td>1.080000</td>\n",
       "      <td>4.027919e+05</td>\n",
       "      <td>8.175117e+04</td>\n",
       "      <td>1.186649e+05</td>\n",
       "      <td>7.688170e+03</td>\n",
       "      <td>7.397906e+04</td>\n",
       "      <td>6.237569e+04</td>\n",
       "      <td>5.044350e+03</td>\n",
       "      <td>0.000000</td>\n",
       "      <td>2015.000000</td>\n",
       "    </tr>\n",
       "    <tr>\n",
       "      <th>75%</th>\n",
       "      <td>1.190000</td>\n",
       "      <td>9.819751e+05</td>\n",
       "      <td>3.775785e+05</td>\n",
       "      <td>4.851503e+05</td>\n",
       "      <td>2.916730e+04</td>\n",
       "      <td>1.576097e+05</td>\n",
       "      <td>1.461994e+05</td>\n",
       "      <td>2.926767e+04</td>\n",
       "      <td>401.480000</td>\n",
       "      <td>2015.000000</td>\n",
       "    </tr>\n",
       "    <tr>\n",
       "      <th>max</th>\n",
       "      <td>1.680000</td>\n",
       "      <td>4.465546e+07</td>\n",
       "      <td>1.893304e+07</td>\n",
       "      <td>1.895648e+07</td>\n",
       "      <td>1.381516e+06</td>\n",
       "      <td>6.736304e+06</td>\n",
       "      <td>5.893642e+06</td>\n",
       "      <td>1.121076e+06</td>\n",
       "      <td>108072.790000</td>\n",
       "      <td>2016.000000</td>\n",
       "    </tr>\n",
       "  </tbody>\n",
       "</table>\n",
       "</div>"
      ],
      "text/plain": [
       "       AveragePrice  Total Volume          4046          4225          4770  \\\n",
       "count   1517.000000  1.517000e+03  1.517000e+03  1.517000e+03  1.517000e+03   \n",
       "mean       1.074990  1.601879e+06  6.464387e+05  6.114375e+05  5.040550e+04   \n",
       "std        0.188891  4.433143e+06  1.947614e+06  1.672906e+06  1.377812e+05   \n",
       "min        0.490000  3.875074e+04  4.677200e+02  1.783770e+03  0.000000e+00   \n",
       "25%        0.980000  1.474700e+05  2.040034e+04  4.147606e+04  9.112500e+02   \n",
       "50%        1.080000  4.027919e+05  8.175117e+04  1.186649e+05  7.688170e+03   \n",
       "75%        1.190000  9.819751e+05  3.775785e+05  4.851503e+05  2.916730e+04   \n",
       "max        1.680000  4.465546e+07  1.893304e+07  1.895648e+07  1.381516e+06   \n",
       "\n",
       "         Total Bags    Small Bags    Large Bags    XLarge Bags         year  \n",
       "count  1.517000e+03  1.517000e+03  1.517000e+03    1517.000000  1517.000000  \n",
       "mean   2.935974e+05  2.487736e+05  4.264205e+04    2181.771074  2015.162821  \n",
       "std    7.579765e+05  6.474765e+05  1.182157e+05    7455.712144     0.369324  \n",
       "min    3.311770e+03  3.311770e+03  0.000000e+00       0.000000  2015.000000  \n",
       "25%    3.620689e+04  2.972722e+04  5.407400e+02       0.000000  2015.000000  \n",
       "50%    7.397906e+04  6.237569e+04  5.044350e+03       0.000000  2015.000000  \n",
       "75%    1.576097e+05  1.461994e+05  2.926767e+04     401.480000  2015.000000  \n",
       "max    6.736304e+06  5.893642e+06  1.121076e+06  108072.790000  2016.000000  "
      ]
     },
     "execution_count": 11,
     "metadata": {},
     "output_type": "execute_result"
    }
   ],
   "source": [
    "df_a.describe()  # we can get idea about which column has missing values using this"
   ]
  },
  {
   "cell_type": "markdown",
   "metadata": {},
   "source": [
    "- We can see all columns having count __1517__. Looks like it doesn't contain missing values"
   ]
  },
  {
   "cell_type": "markdown",
   "metadata": {},
   "source": [
    " "
   ]
  },
  {
   "cell_type": "code",
   "execution_count": 12,
   "metadata": {},
   "outputs": [],
   "source": [
    "df_a[\"Month\"]=df_a[\"Date\"].dt.month # seperating month from date\n",
    "df_a[\"day\"]=df_a[\"Date\"].dt.day  #seperating day from date"
   ]
  },
  {
   "cell_type": "code",
   "execution_count": 13,
   "metadata": {},
   "outputs": [
    {
     "data": {
      "text/html": [
       "<div>\n",
       "<style scoped>\n",
       "    .dataframe tbody tr th:only-of-type {\n",
       "        vertical-align: middle;\n",
       "    }\n",
       "\n",
       "    .dataframe tbody tr th {\n",
       "        vertical-align: top;\n",
       "    }\n",
       "\n",
       "    .dataframe thead th {\n",
       "        text-align: right;\n",
       "    }\n",
       "</style>\n",
       "<table border=\"1\" class=\"dataframe\">\n",
       "  <thead>\n",
       "    <tr style=\"text-align: right;\">\n",
       "      <th></th>\n",
       "      <th>Date</th>\n",
       "      <th>AveragePrice</th>\n",
       "      <th>Total Volume</th>\n",
       "      <th>4046</th>\n",
       "      <th>4225</th>\n",
       "      <th>4770</th>\n",
       "      <th>Total Bags</th>\n",
       "      <th>Small Bags</th>\n",
       "      <th>Large Bags</th>\n",
       "      <th>XLarge Bags</th>\n",
       "      <th>type</th>\n",
       "      <th>year</th>\n",
       "      <th>region</th>\n",
       "      <th>Month</th>\n",
       "      <th>day</th>\n",
       "    </tr>\n",
       "  </thead>\n",
       "  <tbody>\n",
       "    <tr>\n",
       "      <th>0</th>\n",
       "      <td>2015-12-27</td>\n",
       "      <td>1.33</td>\n",
       "      <td>64236.62</td>\n",
       "      <td>1036.74</td>\n",
       "      <td>54454.85</td>\n",
       "      <td>48.16</td>\n",
       "      <td>8696.87</td>\n",
       "      <td>8603.62</td>\n",
       "      <td>93.25</td>\n",
       "      <td>0.0</td>\n",
       "      <td>conventional</td>\n",
       "      <td>2015</td>\n",
       "      <td>Albany</td>\n",
       "      <td>12</td>\n",
       "      <td>27</td>\n",
       "    </tr>\n",
       "    <tr>\n",
       "      <th>1</th>\n",
       "      <td>2015-12-20</td>\n",
       "      <td>1.35</td>\n",
       "      <td>54876.98</td>\n",
       "      <td>674.28</td>\n",
       "      <td>44638.81</td>\n",
       "      <td>58.33</td>\n",
       "      <td>9505.56</td>\n",
       "      <td>9408.07</td>\n",
       "      <td>97.49</td>\n",
       "      <td>0.0</td>\n",
       "      <td>conventional</td>\n",
       "      <td>2015</td>\n",
       "      <td>Albany</td>\n",
       "      <td>12</td>\n",
       "      <td>20</td>\n",
       "    </tr>\n",
       "    <tr>\n",
       "      <th>2</th>\n",
       "      <td>2015-12-13</td>\n",
       "      <td>0.93</td>\n",
       "      <td>118220.22</td>\n",
       "      <td>794.70</td>\n",
       "      <td>109149.67</td>\n",
       "      <td>130.50</td>\n",
       "      <td>8145.35</td>\n",
       "      <td>8042.21</td>\n",
       "      <td>103.14</td>\n",
       "      <td>0.0</td>\n",
       "      <td>conventional</td>\n",
       "      <td>2015</td>\n",
       "      <td>Albany</td>\n",
       "      <td>12</td>\n",
       "      <td>13</td>\n",
       "    </tr>\n",
       "    <tr>\n",
       "      <th>3</th>\n",
       "      <td>2015-12-06</td>\n",
       "      <td>1.08</td>\n",
       "      <td>78992.15</td>\n",
       "      <td>1132.00</td>\n",
       "      <td>71976.41</td>\n",
       "      <td>72.58</td>\n",
       "      <td>5811.16</td>\n",
       "      <td>5677.40</td>\n",
       "      <td>133.76</td>\n",
       "      <td>0.0</td>\n",
       "      <td>conventional</td>\n",
       "      <td>2015</td>\n",
       "      <td>Albany</td>\n",
       "      <td>12</td>\n",
       "      <td>6</td>\n",
       "    </tr>\n",
       "    <tr>\n",
       "      <th>4</th>\n",
       "      <td>2015-11-29</td>\n",
       "      <td>1.28</td>\n",
       "      <td>51039.60</td>\n",
       "      <td>941.48</td>\n",
       "      <td>43838.39</td>\n",
       "      <td>75.78</td>\n",
       "      <td>6183.95</td>\n",
       "      <td>5986.26</td>\n",
       "      <td>197.69</td>\n",
       "      <td>0.0</td>\n",
       "      <td>conventional</td>\n",
       "      <td>2015</td>\n",
       "      <td>Albany</td>\n",
       "      <td>11</td>\n",
       "      <td>29</td>\n",
       "    </tr>\n",
       "  </tbody>\n",
       "</table>\n",
       "</div>"
      ],
      "text/plain": [
       "        Date  AveragePrice  Total Volume     4046       4225    4770  \\\n",
       "0 2015-12-27          1.33      64236.62  1036.74   54454.85   48.16   \n",
       "1 2015-12-20          1.35      54876.98   674.28   44638.81   58.33   \n",
       "2 2015-12-13          0.93     118220.22   794.70  109149.67  130.50   \n",
       "3 2015-12-06          1.08      78992.15  1132.00   71976.41   72.58   \n",
       "4 2015-11-29          1.28      51039.60   941.48   43838.39   75.78   \n",
       "\n",
       "   Total Bags  Small Bags  Large Bags  XLarge Bags          type  year  \\\n",
       "0     8696.87     8603.62       93.25          0.0  conventional  2015   \n",
       "1     9505.56     9408.07       97.49          0.0  conventional  2015   \n",
       "2     8145.35     8042.21      103.14          0.0  conventional  2015   \n",
       "3     5811.16     5677.40      133.76          0.0  conventional  2015   \n",
       "4     6183.95     5986.26      197.69          0.0  conventional  2015   \n",
       "\n",
       "   region  Month  day  \n",
       "0  Albany     12   27  \n",
       "1  Albany     12   20  \n",
       "2  Albany     12   13  \n",
       "3  Albany     12    6  \n",
       "4  Albany     11   29  "
      ]
     },
     "execution_count": 13,
     "metadata": {},
     "output_type": "execute_result"
    }
   ],
   "source": [
    "df_a.head()"
   ]
  },
  {
   "cell_type": "markdown",
   "metadata": {},
   "source": [
    "- Now we have make seperate columns for day and month so now visualization will be more clear"
   ]
  },
  {
   "cell_type": "markdown",
   "metadata": {},
   "source": [
    "##### . "
   ]
  },
  {
   "cell_type": "code",
   "execution_count": 14,
   "metadata": {},
   "outputs": [
    {
     "data": {
      "image/png": "[encoded data removed]",
      "text/plain": [
       "<Figure size 864x360 with 1 Axes>"
      ]
     },
     "metadata": {
      "needs_background": "light"
     },
     "output_type": "display_data"
    }
   ],
   "source": [
    "plt.figure(figsize=(12,5))\n",
    "plt.title(\"Price Distirbution Graph\")\n",
    "ax = sns.distplot(df_a[\"AveragePrice\"],kde=True)"
   ]
  },
  {
   "cell_type": "markdown",
   "metadata": {},
   "source": [
    "- Average Price distribution shows that for most cases price of avocado is between 1.0, 1.2."
   ]
  },
  {
   "cell_type": "code",
   "execution_count": 15,
   "metadata": {},
   "outputs": [
    {
     "data": {
      "text/plain": [
       "1"
      ]
     },
     "execution_count": 15,
     "metadata": {},
     "output_type": "execute_result"
    }
   ],
   "source": [
    "df_a[\"type\"].nunique()"
   ]
  },
  {
   "cell_type": "markdown",
   "metadata": {},
   "source": [
    "- checked the unique values in column type shows that type column consist of only \"convential\" data, \n",
    "- so we can remove this column as there will be no effect as data is same for everyone"
   ]
  },
  {
   "cell_type": "markdown",
   "metadata": {},
   "source": [
    "###### ."
   ]
  },
  {
   "cell_type": "code",
   "execution_count": 16,
   "metadata": {},
   "outputs": [
    {
     "data": {
      "image/png": "[encoded data removed]",
      "text/plain": [
       "<Figure size 1440x360 with 1 Axes>"
      ]
     },
     "metadata": {
      "needs_background": "light"
     },
     "output_type": "display_data"
    }
   ],
   "source": [
    "plt.figure(figsize=(20,5))\n",
    "sns.lineplot(x=\"Month\", y=\"AveragePrice\",hue=\"type\", data=df_a)\n",
    "plt.show()"
   ]
  },
  {
   "cell_type": "markdown",
   "metadata": {},
   "source": [
    "- we can see that the avg price during the year it was high in 8th and 11th month "
   ]
  },
  {
   "cell_type": "markdown",
   "metadata": {},
   "source": [
    "## Now lets plot Average price distribution based on region\n"
   ]
  },
  {
   "cell_type": "code",
   "execution_count": 17,
   "metadata": {},
   "outputs": [],
   "source": [
    "#firstly we need to group region and sum there respective avg price and then plot the graph\n",
    "reg=df_a.groupby(\"region\")[\"AveragePrice\"].sum()"
   ]
  },
  {
   "cell_type": "code",
   "execution_count": 18,
   "metadata": {},
   "outputs": [],
   "source": [
    "r=reg.sort_values(ascending=False)"
   ]
  },
  {
   "cell_type": "code",
   "execution_count": 19,
   "metadata": {},
   "outputs": [],
   "source": [
    "region=r.to_frame()"
   ]
  },
  {
   "cell_type": "code",
   "execution_count": 20,
   "metadata": {},
   "outputs": [
    {
     "data": {
      "text/html": [
       "<div>\n",
       "<style scoped>\n",
       "    .dataframe tbody tr th:only-of-type {\n",
       "        vertical-align: middle;\n",
       "    }\n",
       "\n",
       "    .dataframe tbody tr th {\n",
       "        vertical-align: top;\n",
       "    }\n",
       "\n",
       "    .dataframe thead th {\n",
       "        text-align: right;\n",
       "    }\n",
       "</style>\n",
       "<table border=\"1\" class=\"dataframe\">\n",
       "  <thead>\n",
       "    <tr style=\"text-align: right;\">\n",
       "      <th></th>\n",
       "      <th>region</th>\n",
       "      <th>AveragePrice</th>\n",
       "    </tr>\n",
       "  </thead>\n",
       "  <tbody>\n",
       "    <tr>\n",
       "      <th>0</th>\n",
       "      <td>Albany</td>\n",
       "      <td>82.99</td>\n",
       "    </tr>\n",
       "    <tr>\n",
       "      <th>1</th>\n",
       "      <td>California</td>\n",
       "      <td>80.25</td>\n",
       "    </tr>\n",
       "    <tr>\n",
       "      <th>2</th>\n",
       "      <td>BaltimoreWashington</td>\n",
       "      <td>75.46</td>\n",
       "    </tr>\n",
       "    <tr>\n",
       "      <th>3</th>\n",
       "      <td>Boston</td>\n",
       "      <td>74.74</td>\n",
       "    </tr>\n",
       "    <tr>\n",
       "      <th>4</th>\n",
       "      <td>BuffaloRochester</td>\n",
       "      <td>66.38</td>\n",
       "    </tr>\n",
       "  </tbody>\n",
       "</table>\n",
       "</div>"
      ],
      "text/plain": [
       "                region  AveragePrice\n",
       "0               Albany         82.99\n",
       "1           California         80.25\n",
       "2  BaltimoreWashington         75.46\n",
       "3               Boston         74.74\n",
       "4     BuffaloRochester         66.38"
      ]
     },
     "execution_count": 20,
     "metadata": {},
     "output_type": "execute_result"
    }
   ],
   "source": [
    "region=region.reset_index()\n",
    "region.head()"
   ]
  },
  {
   "cell_type": "code",
   "execution_count": 21,
   "metadata": {},
   "outputs": [
    {
     "data": {
      "text/plain": [
       "(array([ 0,  1,  2,  3,  4,  5,  6,  7,  8,  9, 10, 11, 12, 13, 14, 15, 16,\n",
       "        17, 18, 19, 20, 21, 22, 23, 24, 25, 26, 27, 28, 29, 30, 31, 32, 33,\n",
       "        34, 35, 36, 37, 38, 39, 40, 41, 42, 43, 44, 45, 46, 47, 48, 49, 50]),\n",
       " <a list of 51 Text xticklabel objects>)"
      ]
     },
     "execution_count": 21,
     "metadata": {},
     "output_type": "execute_result"
    },
    {
     "data": {
      "image/png": "[encoded data removed]",
      "text/plain": [
       "<Figure size 1728x720 with 1 Axes>"
      ]
     },
     "metadata": {
      "needs_background": "light"
     },
     "output_type": "display_data"
    }
   ],
   "source": [
    "plt.figure(figsize=(24,10))\n",
    "sns.barplot(x=\"region\",y=\"AveragePrice\",data=region)\n",
    "plt.xticks(rotation=90)"
   ]
  },
  {
   "cell_type": "markdown",
   "metadata": {},
   "source": [
    "- These are the region where price is very high which can be seen by gaph and table above\n",
    "   \n",
    "    Albany\t\n",
    "\tCalifornia\t\n",
    "\tBaltimoreWashington\t\n",
    "\tBoston\t\n",
    "\tBuffaloRochester\t"
   ]
  },
  {
   "cell_type": "markdown",
   "metadata": {},
   "source": [
    "###### ."
   ]
  },
  {
   "cell_type": "code",
   "execution_count": 22,
   "metadata": {},
   "outputs": [],
   "source": [
    "rv=df_a.groupby(\"region\")[\"Total Volume\"].sum()"
   ]
  },
  {
   "cell_type": "code",
   "execution_count": 23,
   "metadata": {},
   "outputs": [],
   "source": [
    "rv=rv.sort_values(ascending=False)"
   ]
  },
  {
   "cell_type": "code",
   "execution_count": 24,
   "metadata": {},
   "outputs": [],
   "source": [
    "region_totalvol=rv.to_frame()"
   ]
  },
  {
   "cell_type": "code",
   "execution_count": 25,
   "metadata": {},
   "outputs": [
    {
     "data": {
      "text/html": [
       "<div>\n",
       "<style scoped>\n",
       "    .dataframe tbody tr th:only-of-type {\n",
       "        vertical-align: middle;\n",
       "    }\n",
       "\n",
       "    .dataframe tbody tr th {\n",
       "        vertical-align: top;\n",
       "    }\n",
       "\n",
       "    .dataframe thead th {\n",
       "        text-align: right;\n",
       "    }\n",
       "</style>\n",
       "<table border=\"1\" class=\"dataframe\">\n",
       "  <thead>\n",
       "    <tr style=\"text-align: right;\">\n",
       "      <th></th>\n",
       "      <th>region</th>\n",
       "      <th>Total Volume</th>\n",
       "    </tr>\n",
       "  </thead>\n",
       "  <tbody>\n",
       "    <tr>\n",
       "      <th>0</th>\n",
       "      <td>TotalUS</td>\n",
       "      <td>8.234286e+08</td>\n",
       "    </tr>\n",
       "    <tr>\n",
       "      <th>1</th>\n",
       "      <td>California</td>\n",
       "      <td>4.586810e+08</td>\n",
       "    </tr>\n",
       "    <tr>\n",
       "      <th>2</th>\n",
       "      <td>SouthCentral</td>\n",
       "      <td>2.143828e+08</td>\n",
       "    </tr>\n",
       "    <tr>\n",
       "      <th>3</th>\n",
       "      <td>West</td>\n",
       "      <td>2.006978e+08</td>\n",
       "    </tr>\n",
       "    <tr>\n",
       "      <th>4</th>\n",
       "      <td>NewYork</td>\n",
       "      <td>5.997083e+07</td>\n",
       "    </tr>\n",
       "  </tbody>\n",
       "</table>\n",
       "</div>"
      ],
      "text/plain": [
       "         region  Total Volume\n",
       "0       TotalUS  8.234286e+08\n",
       "1    California  4.586810e+08\n",
       "2  SouthCentral  2.143828e+08\n",
       "3          West  2.006978e+08\n",
       "4       NewYork  5.997083e+07"
      ]
     },
     "execution_count": 25,
     "metadata": {},
     "output_type": "execute_result"
    }
   ],
   "source": [
    "region_totalvol=region_totalvol.reset_index()\n",
    "region_totalvol.head()"
   ]
  },
  {
   "cell_type": "code",
   "execution_count": 26,
   "metadata": {},
   "outputs": [
    {
     "data": {
      "text/plain": [
       "(array([ 0,  1,  2,  3,  4,  5,  6,  7,  8,  9, 10, 11, 12, 13, 14, 15, 16,\n",
       "        17, 18, 19, 20, 21, 22, 23, 24, 25, 26, 27, 28, 29, 30, 31, 32, 33,\n",
       "        34, 35, 36, 37, 38, 39, 40, 41, 42, 43, 44, 45, 46, 47, 48, 49, 50]),\n",
       " <a list of 51 Text xticklabel objects>)"
      ]
     },
     "execution_count": 26,
     "metadata": {},
     "output_type": "execute_result"
    },
    {
     "data": {
      "image/png": "[encoded data removed]",
      "text/plain": [
       "<Figure size 1728x720 with 1 Axes>"
      ]
     },
     "metadata": {
      "needs_background": "light"
     },
     "output_type": "display_data"
    }
   ],
   "source": [
    "plt.figure(figsize=(24,10))\n",
    "sns.barplot(x=\"region\",y=\"Total Volume\",data=region_totalvol)\n",
    "plt.xticks(rotation=90)"
   ]
  },
  {
   "cell_type": "markdown",
   "metadata": {},
   "source": [
    "- __TotalUS,California,SouthCentral,West__ are the top region in total consumption of avacado"
   ]
  },
  {
   "cell_type": "code",
   "execution_count": 27,
   "metadata": {},
   "outputs": [
    {
     "data": {
      "text/plain": [
       "Text(0.5, 1.0, 'Average Price')"
      ]
     },
     "execution_count": 27,
     "metadata": {},
     "output_type": "execute_result"
    },
    {
     "data": {
      "image/png": "[encoded data removed]",
      "text/plain": [
       "<Figure size 864x576 with 1 Axes>"
      ]
     },
     "metadata": {
      "needs_background": "light"
     },
     "output_type": "display_data"
    }
   ],
   "source": [
    "byDate=df_a.groupby('Date').mean()\n",
    "plt.figure(figsize=(12,8))\n",
    "byDate['AveragePrice'].plot()\n",
    "plt.title('Average Price')"
   ]
  },
  {
   "cell_type": "markdown",
   "metadata": {},
   "source": [
    "- This also shows there was a huge hike in prices after __May 2016__"
   ]
  },
  {
   "cell_type": "code",
   "execution_count": 28,
   "metadata": {},
   "outputs": [
    {
     "data": {
      "text/plain": [
       "<matplotlib.axes._subplots.AxesSubplot at 0x5541780848>"
      ]
     },
     "execution_count": 28,
     "metadata": {},
     "output_type": "execute_result"
    },
    {
     "data": {
      "image/png": "[encoded data removed]",
      "text/plain": [
       "<Figure size 864x432 with 2 Axes>"
      ]
     },
     "metadata": {
      "needs_background": "light"
     },
     "output_type": "display_data"
    }
   ],
   "source": [
    "#correlation\n",
    "plt.figure(figsize=(12,6))\n",
    "sns.heatmap(df_a.corr(),annot=True)"
   ]
  },
  {
   "cell_type": "markdown",
   "metadata": {},
   "source": [
    "- most of the features are highly correlated and some are negative but not much so we can consider them as well"
   ]
  },
  {
   "cell_type": "markdown",
   "metadata": {},
   "source": [
    "## Feature Engineering for Model building"
   ]
  },
  {
   "cell_type": "code",
   "execution_count": 29,
   "metadata": {},
   "outputs": [
    {
     "data": {
      "text/plain": [
       "51"
      ]
     },
     "execution_count": 29,
     "metadata": {},
     "output_type": "execute_result"
    }
   ],
   "source": [
    "df_a['region'].nunique()"
   ]
  },
  {
   "cell_type": "code",
   "execution_count": 30,
   "metadata": {},
   "outputs": [
    {
     "data": {
      "text/plain": [
       "1"
      ]
     },
     "execution_count": 30,
     "metadata": {},
     "output_type": "execute_result"
    }
   ],
   "source": [
    "df_a['type'].nunique()"
   ]
  },
  {
   "cell_type": "markdown",
   "metadata": {},
   "source": [
    "- As we can see we have 51 regions and 1 unique types,since type column having only one feature so we can drop it,and also for the region its going to be a bit complex, so I decided to drop the entire column.\n",
    "- I will drop the Date Feature as well because I already have 3 other columns for the Year, Month and Day."
   ]
  },
  {
   "cell_type": "code",
   "execution_count": 31,
   "metadata": {},
   "outputs": [],
   "source": [
    "df_final=df_a.drop(['region','Date','type'],axis=1)"
   ]
  },
  {
   "cell_type": "code",
   "execution_count": 32,
   "metadata": {},
   "outputs": [
    {
     "data": {
      "text/html": [
       "<div>\n",
       "<style scoped>\n",
       "    .dataframe tbody tr th:only-of-type {\n",
       "        vertical-align: middle;\n",
       "    }\n",
       "\n",
       "    .dataframe tbody tr th {\n",
       "        vertical-align: top;\n",
       "    }\n",
       "\n",
       "    .dataframe thead th {\n",
       "        text-align: right;\n",
       "    }\n",
       "</style>\n",
       "<table border=\"1\" class=\"dataframe\">\n",
       "  <thead>\n",
       "    <tr style=\"text-align: right;\">\n",
       "      <th></th>\n",
       "      <th>AveragePrice</th>\n",
       "      <th>Total Volume</th>\n",
       "      <th>4046</th>\n",
       "      <th>4225</th>\n",
       "      <th>4770</th>\n",
       "      <th>Total Bags</th>\n",
       "      <th>Small Bags</th>\n",
       "      <th>Large Bags</th>\n",
       "      <th>XLarge Bags</th>\n",
       "      <th>year</th>\n",
       "      <th>Month</th>\n",
       "      <th>day</th>\n",
       "    </tr>\n",
       "  </thead>\n",
       "  <tbody>\n",
       "    <tr>\n",
       "      <th>0</th>\n",
       "      <td>1.33</td>\n",
       "      <td>64236.62</td>\n",
       "      <td>1036.74</td>\n",
       "      <td>54454.85</td>\n",
       "      <td>48.16</td>\n",
       "      <td>8696.87</td>\n",
       "      <td>8603.62</td>\n",
       "      <td>93.25</td>\n",
       "      <td>0.00</td>\n",
       "      <td>2015</td>\n",
       "      <td>12</td>\n",
       "      <td>27</td>\n",
       "    </tr>\n",
       "    <tr>\n",
       "      <th>1</th>\n",
       "      <td>1.35</td>\n",
       "      <td>54876.98</td>\n",
       "      <td>674.28</td>\n",
       "      <td>44638.81</td>\n",
       "      <td>58.33</td>\n",
       "      <td>9505.56</td>\n",
       "      <td>9408.07</td>\n",
       "      <td>97.49</td>\n",
       "      <td>0.00</td>\n",
       "      <td>2015</td>\n",
       "      <td>12</td>\n",
       "      <td>20</td>\n",
       "    </tr>\n",
       "    <tr>\n",
       "      <th>2</th>\n",
       "      <td>0.93</td>\n",
       "      <td>118220.22</td>\n",
       "      <td>794.70</td>\n",
       "      <td>109149.67</td>\n",
       "      <td>130.50</td>\n",
       "      <td>8145.35</td>\n",
       "      <td>8042.21</td>\n",
       "      <td>103.14</td>\n",
       "      <td>0.00</td>\n",
       "      <td>2015</td>\n",
       "      <td>12</td>\n",
       "      <td>13</td>\n",
       "    </tr>\n",
       "    <tr>\n",
       "      <th>3</th>\n",
       "      <td>1.08</td>\n",
       "      <td>78992.15</td>\n",
       "      <td>1132.00</td>\n",
       "      <td>71976.41</td>\n",
       "      <td>72.58</td>\n",
       "      <td>5811.16</td>\n",
       "      <td>5677.40</td>\n",
       "      <td>133.76</td>\n",
       "      <td>0.00</td>\n",
       "      <td>2015</td>\n",
       "      <td>12</td>\n",
       "      <td>6</td>\n",
       "    </tr>\n",
       "    <tr>\n",
       "      <th>4</th>\n",
       "      <td>1.28</td>\n",
       "      <td>51039.60</td>\n",
       "      <td>941.48</td>\n",
       "      <td>43838.39</td>\n",
       "      <td>75.78</td>\n",
       "      <td>6183.95</td>\n",
       "      <td>5986.26</td>\n",
       "      <td>197.69</td>\n",
       "      <td>0.00</td>\n",
       "      <td>2015</td>\n",
       "      <td>11</td>\n",
       "      <td>29</td>\n",
       "    </tr>\n",
       "    <tr>\n",
       "      <th>...</th>\n",
       "      <td>...</td>\n",
       "      <td>...</td>\n",
       "      <td>...</td>\n",
       "      <td>...</td>\n",
       "      <td>...</td>\n",
       "      <td>...</td>\n",
       "      <td>...</td>\n",
       "      <td>...</td>\n",
       "      <td>...</td>\n",
       "      <td>...</td>\n",
       "      <td>...</td>\n",
       "      <td>...</td>\n",
       "    </tr>\n",
       "    <tr>\n",
       "      <th>1512</th>\n",
       "      <td>1.39</td>\n",
       "      <td>190846.01</td>\n",
       "      <td>57529.11</td>\n",
       "      <td>56366.66</td>\n",
       "      <td>17531.78</td>\n",
       "      <td>59418.46</td>\n",
       "      <td>48823.53</td>\n",
       "      <td>10354.65</td>\n",
       "      <td>240.28</td>\n",
       "      <td>2016</td>\n",
       "      <td>10</td>\n",
       "      <td>16</td>\n",
       "    </tr>\n",
       "    <tr>\n",
       "      <th>1513</th>\n",
       "      <td>1.51</td>\n",
       "      <td>178235.75</td>\n",
       "      <td>43325.87</td>\n",
       "      <td>52189.61</td>\n",
       "      <td>19419.57</td>\n",
       "      <td>63300.70</td>\n",
       "      <td>54704.14</td>\n",
       "      <td>8596.56</td>\n",
       "      <td>0.00</td>\n",
       "      <td>2016</td>\n",
       "      <td>10</td>\n",
       "      <td>9</td>\n",
       "    </tr>\n",
       "    <tr>\n",
       "      <th>1514</th>\n",
       "      <td>1.48</td>\n",
       "      <td>178410.82</td>\n",
       "      <td>46364.75</td>\n",
       "      <td>52893.38</td>\n",
       "      <td>16736.92</td>\n",
       "      <td>62415.77</td>\n",
       "      <td>53332.61</td>\n",
       "      <td>8258.16</td>\n",
       "      <td>825.00</td>\n",
       "      <td>2016</td>\n",
       "      <td>10</td>\n",
       "      <td>2</td>\n",
       "    </tr>\n",
       "    <tr>\n",
       "      <th>1515</th>\n",
       "      <td>1.47</td>\n",
       "      <td>189131.52</td>\n",
       "      <td>54110.79</td>\n",
       "      <td>53593.58</td>\n",
       "      <td>17495.42</td>\n",
       "      <td>63931.73</td>\n",
       "      <td>55653.47</td>\n",
       "      <td>8278.26</td>\n",
       "      <td>0.00</td>\n",
       "      <td>2016</td>\n",
       "      <td>9</td>\n",
       "      <td>25</td>\n",
       "    </tr>\n",
       "    <tr>\n",
       "      <th>1516</th>\n",
       "      <td>1.43</td>\n",
       "      <td>182978.30</td>\n",
       "      <td>43116.41</td>\n",
       "      <td>54193.42</td>\n",
       "      <td>16563.91</td>\n",
       "      <td>69104.56</td>\n",
       "      <td>57456.21</td>\n",
       "      <td>11648.35</td>\n",
       "      <td>0.00</td>\n",
       "      <td>2016</td>\n",
       "      <td>9</td>\n",
       "      <td>18</td>\n",
       "    </tr>\n",
       "  </tbody>\n",
       "</table>\n",
       "<p>1517 rows × 12 columns</p>\n",
       "</div>"
      ],
      "text/plain": [
       "      AveragePrice  Total Volume      4046       4225      4770  Total Bags  \\\n",
       "0             1.33      64236.62   1036.74   54454.85     48.16     8696.87   \n",
       "1             1.35      54876.98    674.28   44638.81     58.33     9505.56   \n",
       "2             0.93     118220.22    794.70  109149.67    130.50     8145.35   \n",
       "3             1.08      78992.15   1132.00   71976.41     72.58     5811.16   \n",
       "4             1.28      51039.60    941.48   43838.39     75.78     6183.95   \n",
       "...            ...           ...       ...        ...       ...         ...   \n",
       "1512          1.39     190846.01  57529.11   56366.66  17531.78    59418.46   \n",
       "1513          1.51     178235.75  43325.87   52189.61  19419.57    63300.70   \n",
       "1514          1.48     178410.82  46364.75   52893.38  16736.92    62415.77   \n",
       "1515          1.47     189131.52  54110.79   53593.58  17495.42    63931.73   \n",
       "1516          1.43     182978.30  43116.41   54193.42  16563.91    69104.56   \n",
       "\n",
       "      Small Bags  Large Bags  XLarge Bags  year  Month  day  \n",
       "0        8603.62       93.25         0.00  2015     12   27  \n",
       "1        9408.07       97.49         0.00  2015     12   20  \n",
       "2        8042.21      103.14         0.00  2015     12   13  \n",
       "3        5677.40      133.76         0.00  2015     12    6  \n",
       "4        5986.26      197.69         0.00  2015     11   29  \n",
       "...          ...         ...          ...   ...    ...  ...  \n",
       "1512    48823.53    10354.65       240.28  2016     10   16  \n",
       "1513    54704.14     8596.56         0.00  2016     10    9  \n",
       "1514    53332.61     8258.16       825.00  2016     10    2  \n",
       "1515    55653.47     8278.26         0.00  2016      9   25  \n",
       "1516    57456.21    11648.35         0.00  2016      9   18  \n",
       "\n",
       "[1517 rows x 12 columns]"
      ]
     },
     "execution_count": 32,
     "metadata": {},
     "output_type": "execute_result"
    }
   ],
   "source": [
    "df_final"
   ]
  },
  {
   "cell_type": "code",
   "execution_count": 33,
   "metadata": {},
   "outputs": [
    {
     "data": {
      "text/plain": [
       "AveragePrice   -0.109444\n",
       "Total Volume    6.200138\n",
       "4046            6.051830\n",
       "4225            6.394926\n",
       "4770            5.405164\n",
       "Total Bags      5.366378\n",
       "Small Bags      5.355185\n",
       "Large Bags      5.144495\n",
       "XLarge Bags     5.775077\n",
       "year            1.828332\n",
       "Month           0.233418\n",
       "day             0.027740\n",
       "dtype: float64"
      ]
     },
     "execution_count": 33,
     "metadata": {},
     "output_type": "execute_result"
    }
   ],
   "source": [
    "#checking the skewnessin the data\n",
    "df_final.skew()"
   ]
  },
  {
   "cell_type": "code",
   "execution_count": 34,
   "metadata": {},
   "outputs": [],
   "source": [
    "# Treating the skewness in the data by log transform\n",
    "\n",
    "for col in df_final.columns:\n",
    "    if df_final[col].skew()>0.55:\n",
    "        df_final[col]=np.log1p(df_final[col])"
   ]
  },
  {
   "cell_type": "code",
   "execution_count": 35,
   "metadata": {},
   "outputs": [
    {
     "data": {
      "text/plain": [
       "AveragePrice   -0.109444\n",
       "Total Volume    0.667468\n",
       "4046           -0.160268\n",
       "4225            0.184436\n",
       "4770           -0.355508\n",
       "Total Bags      0.695502\n",
       "Small Bags      0.713843\n",
       "Large Bags     -0.912766\n",
       "XLarge Bags     0.783913\n",
       "year            1.828332\n",
       "Month           0.233418\n",
       "day             0.027740\n",
       "dtype: float64"
      ]
     },
     "execution_count": 35,
     "metadata": {},
     "output_type": "execute_result"
    }
   ],
   "source": [
    "# after transform again check the sknewness\n",
    "df_final.skew()"
   ]
  },
  {
   "cell_type": "markdown",
   "metadata": {},
   "source": [
    "## Removing outliners"
   ]
  },
  {
   "cell_type": "code",
   "execution_count": 36,
   "metadata": {},
   "outputs": [],
   "source": [
    "from scipy.stats import zscore\n",
    "z=np.abs(zscore(df_final))"
   ]
  },
  {
   "cell_type": "code",
   "execution_count": 37,
   "metadata": {},
   "outputs": [],
   "source": [
    "threshold=3\n",
    "df_new=df_final[(z<3).all(axis=1)]"
   ]
  },
  {
   "cell_type": "code",
   "execution_count": 38,
   "metadata": {},
   "outputs": [
    {
     "name": "stdout",
     "output_type": "stream",
     "text": [
      "(1517, 12)\n",
      "(1502, 12)\n"
     ]
    }
   ],
   "source": [
    "print(df_final.shape)\n",
    "print(df_new.shape)"
   ]
  },
  {
   "cell_type": "markdown",
   "metadata": {},
   "source": [
    "- shape of the new data decreases so there were outliners which has been removed"
   ]
  },
  {
   "cell_type": "markdown",
   "metadata": {},
   "source": [
    "# Task 1: Target variable-->AveragePrice"
   ]
  },
  {
   "cell_type": "markdown",
   "metadata": {},
   "source": [
    "## Model selection/predictions\n",
    "- Now our data are ready! lets apply our model which is going to be the Regression techniques because our Target variable 'AveragePrice' is continuous."
   ]
  },
  {
   "cell_type": "code",
   "execution_count": 39,
   "metadata": {},
   "outputs": [
    {
     "data": {
      "text/plain": [
       "array([1.33, 1.35, 0.93, ..., 1.48, 1.47, 1.43])"
      ]
     },
     "execution_count": 39,
     "metadata": {},
     "output_type": "execute_result"
    }
   ],
   "source": [
    "df_x=df_new.drop(['AveragePrice'],axis=1)\n",
    "y=df_new['AveragePrice']\n",
    "y.values.ravel()"
   ]
  },
  {
   "cell_type": "code",
   "execution_count": 40,
   "metadata": {},
   "outputs": [
    {
     "data": {
      "text/plain": [
       "(1502,)"
      ]
     },
     "execution_count": 40,
     "metadata": {},
     "output_type": "execute_result"
    }
   ],
   "source": [
    "y.shape"
   ]
  },
  {
   "cell_type": "code",
   "execution_count": 41,
   "metadata": {},
   "outputs": [],
   "source": [
    "#scaling the input variables\n",
    "from sklearn.preprocessing import StandardScaler\n",
    "sc=StandardScaler()\n",
    "x=sc.fit_transform(df_x)\n",
    "x=pd.DataFrame(x,columns=df_x.columns)"
   ]
  },
  {
   "cell_type": "code",
   "execution_count": 42,
   "metadata": {},
   "outputs": [
    {
     "data": {
      "text/plain": [
       "Total Volume    0.592040\n",
       "4046           -0.203940\n",
       "4225            0.122951\n",
       "4770           -0.371693\n",
       "Total Bags      0.621617\n",
       "Small Bags      0.643635\n",
       "Large Bags     -0.934829\n",
       "XLarge Bags     0.796336\n",
       "year            1.838704\n",
       "Month           0.230761\n",
       "day             0.026187\n",
       "dtype: float64"
      ]
     },
     "execution_count": 42,
     "metadata": {},
     "output_type": "execute_result"
    }
   ],
   "source": [
    "# let check again skewness\n",
    "x.skew()"
   ]
  },
  {
   "cell_type": "code",
   "execution_count": 43,
   "metadata": {},
   "outputs": [],
   "source": [
    "# breaking our input and target variable into train and test data\n",
    "from sklearn.model_selection import train_test_split\n",
    "train_x,test_x,train_y,test_y=train_test_split(x,y,test_size=.2,random_state=42)"
   ]
  },
  {
   "cell_type": "code",
   "execution_count": 44,
   "metadata": {},
   "outputs": [
    {
     "name": "stdout",
     "output_type": "stream",
     "text": [
      "(1201, 11)\n",
      "(1201,)\n",
      "(301, 11)\n",
      "(301,)\n"
     ]
    }
   ],
   "source": [
    "print(train_x.shape)\n",
    "print(train_y.shape)\n",
    "print(test_x.shape)\n",
    "print(test_y.shape)"
   ]
  },
  {
   "cell_type": "code",
   "execution_count": 45,
   "metadata": {},
   "outputs": [],
   "source": [
    "# importing the model librabries\n",
    "from sklearn.linear_model import LinearRegression,Lasso,Ridge,ElasticNet\n",
    "from sklearn.svm import SVR\n",
    "from sklearn.neighbors import KNeighborsRegressor\n",
    "from sklearn.tree import DecisionTreeRegressor\n",
    "\n",
    "#importing error metrics\n",
    "from sklearn.metrics import mean_absolute_error,mean_squared_error,r2_score"
   ]
  },
  {
   "cell_type": "code",
   "execution_count": 46,
   "metadata": {},
   "outputs": [
    {
     "name": "stdout",
     "output_type": "stream",
     "text": [
      "score of  LinearRegression() is : 0.38093065926012737\n",
      "\n",
      "\n",
      "Errors:\n",
      "r2 score is: 0.436960091152361\n",
      "mean absolute error is: 0.11100228674456965\n",
      "mean squared error is: 0.01899130051634622\n",
      "Root mean squared error is: 0.1378089275640233\n",
      "\n",
      "\n",
      "                                                                  \n",
      "\n",
      "\n",
      "score of  DecisionTreeRegressor() is : 1.0\n",
      "\n",
      "\n",
      "Errors:\n",
      "r2 score is: 0.7036161069854834\n",
      "mean absolute error is: 0.07491694352159468\n",
      "mean squared error is: 0.00999700996677741\n",
      "Root mean squared error is: 0.0999850487161826\n",
      "\n",
      "\n",
      "                                                                  \n",
      "\n",
      "\n",
      "score of  KNeighborsRegressor() is : 0.8165425068318434\n",
      "\n",
      "\n",
      "Errors:\n",
      "r2 score is: 0.7320707730387053\n",
      "mean absolute error is: 0.07504318936877077\n",
      "mean squared error is: 0.009037235880398672\n",
      "Root mean squared error is: 0.09506437755751979\n",
      "\n",
      "\n",
      "                                                                  \n",
      "\n",
      "\n",
      "score of  SVR() is : 0.8163985838266257\n",
      "\n",
      "\n",
      "Errors:\n",
      "r2 score is: 0.779246336178633\n",
      "mean absolute error is: 0.06916197285902403\n",
      "mean squared error is: 0.0074460071192760284\n",
      "Root mean squared error is: 0.08629024927114319\n",
      "\n",
      "\n",
      "                                                                  \n",
      "\n",
      "\n",
      "score of  Lasso() is : 0.0\n",
      "\n",
      "\n",
      "Errors:\n",
      "r2 score is: -0.004402733117364166\n",
      "mean absolute error is: 0.14146652429730483\n",
      "mean squared error is: 0.03387844066526571\n",
      "Root mean squared error is: 0.18406096996719787\n",
      "\n",
      "\n",
      "                                                                  \n",
      "\n",
      "\n",
      "score of  Ridge() is : 0.3807201356042701\n",
      "\n",
      "\n",
      "Errors:\n",
      "r2 score is: 0.43600701620848326\n",
      "mean absolute error is: 0.11100879377728934\n",
      "mean squared error is: 0.01902344767392663\n",
      "Root mean squared error is: 0.1379255149489268\n",
      "\n",
      "\n",
      "                                                                  \n",
      "\n",
      "\n",
      "score of  ElasticNet() is : 0.0\n",
      "\n",
      "\n",
      "Errors:\n",
      "r2 score is: -0.004402733117364166\n",
      "mean absolute error is: 0.14146652429730483\n",
      "mean squared error is: 0.03387844066526571\n",
      "Root mean squared error is: 0.18406096996719787\n",
      "\n",
      "\n",
      "                                                                  \n",
      "\n",
      "\n"
     ]
    }
   ],
   "source": [
    "#using algorithm with the help of loop\n",
    "model=[LinearRegression(),DecisionTreeRegressor(),KNeighborsRegressor(),SVR(),Lasso(),Ridge(),ElasticNet()]\n",
    "for m in model:\n",
    "    m.fit(train_x,train_y)\n",
    "    print(\"score of \",m,\"is :\",m.score(train_x,train_y))\n",
    "    pred=m.predict(test_x)\n",
    "    print(\"\\n\")\n",
    "    print(\"Errors:\")\n",
    "    print(\"r2 score is:\",r2_score(test_y,pred))\n",
    "    print(\"mean absolute error is:\",mean_absolute_error(test_y,pred))\n",
    "    print(\"mean squared error is:\",mean_squared_error(test_y,pred))\n",
    "    print(\"Root mean squared error is:\",np.sqrt(mean_squared_error(test_y,pred)))\n",
    "    print(\"\\n\")\n",
    "    print(\"                                                                  \")\n",
    "    print(\"\\n\")\n",
    "    "
   ]
  },
  {
   "cell_type": "code",
   "execution_count": 47,
   "metadata": {},
   "outputs": [
    {
     "name": "stdout",
     "output_type": "stream",
     "text": [
      "score of  LinearRegression() is: [-0.24669678  0.11146182  0.32552992  0.2931178   0.08289396]\n",
      "mean score 0.11326134488845974\n",
      "standard deviation 0.2039125082919262\n",
      "\n",
      "\n",
      "           \n",
      "score of  DecisionTreeRegressor() is: [-0.89366268 -0.62080516  0.06474121 -0.65058145  0.074198  ]\n",
      "mean score -0.4052220182343519\n",
      "standard deviation 0.39898887453743753\n",
      "\n",
      "\n",
      "           \n",
      "score of  KNeighborsRegressor() is: [-0.16861866  0.11893976  0.41500355  0.15694868  0.19246203]\n",
      "mean score 0.1429470734916591\n",
      "standard deviation 0.18671478602879732\n",
      "\n",
      "\n",
      "           \n",
      "score of  SVR() is: [0.03788344 0.45747601 0.59865718 0.18089393 0.15787257]\n",
      "mean score 0.2865566251298744\n",
      "standard deviation 0.20793399560065257\n",
      "\n",
      "\n",
      "           \n",
      "score of  Lasso() is: [-0.1500728  -0.02498071 -0.01153593 -0.02054949 -0.00825267]\n",
      "mean score -0.043078322392691513\n",
      "standard deviation 0.053834262961255736\n",
      "\n",
      "\n",
      "           \n",
      "score of  Ridge() is: [-0.22847113  0.10602249  0.32095472  0.29508193  0.07996009]\n",
      "mean score 0.11470962274179144\n",
      "standard deviation 0.19704173783014686\n",
      "\n",
      "\n",
      "           \n",
      "score of  ElasticNet() is: [-0.1500728  -0.02498071 -0.01153593 -0.02054949 -0.00825267]\n",
      "mean score -0.043078322392691513\n",
      "standard deviation 0.053834262961255736\n",
      "\n",
      "\n",
      "           \n"
     ]
    }
   ],
   "source": [
    "#using the cross validation\n",
    "from sklearn.model_selection import cross_val_score\n",
    "model=[LinearRegression(),DecisionTreeRegressor(),KNeighborsRegressor(),SVR(),Lasso(),Ridge(),ElasticNet()]\n",
    "for m in model:\n",
    "    score=cross_val_score(m,x,y,cv=5,scoring='r2')\n",
    "    print(\"score of \",m,\"is:\",score)\n",
    "    print(\"mean score\",score.mean())\n",
    "    print(\"standard deviation\",score.std())\n",
    "    print('\\n')\n",
    "    print(\"           \")\n",
    "    "
   ]
  },
  {
   "cell_type": "markdown",
   "metadata": {},
   "source": [
    "# SVR model is giving best score"
   ]
  },
  {
   "cell_type": "code",
   "execution_count": 48,
   "metadata": {},
   "outputs": [
    {
     "data": {
      "text/plain": [
       "{'C': 0.1, 'gamma': 0.1}"
      ]
     },
     "execution_count": 48,
     "metadata": {},
     "output_type": "execute_result"
    }
   ],
   "source": [
    "#svr is giving best score so now we will find the best parameter for this model\n",
    "from sklearn.model_selection import GridSearchCV\n",
    "svr=SVR()\n",
    "parameters={'C': [0.1, 1, 10],  \n",
    "              'gamma': [1, 0.1, 0.01]}\n",
    "gss=GridSearchCV(svr,parameters)\n",
    "gss.fit(x,y)\n",
    "gss.best_params_"
   ]
  },
  {
   "cell_type": "code",
   "execution_count": 49,
   "metadata": {},
   "outputs": [
    {
     "name": "stdout",
     "output_type": "stream",
     "text": [
      "score : 0.6988454421737094\n",
      "\n",
      "\n",
      "Errors:\n",
      "r2 score is: 0.6982877311378214\n",
      "mean absolute error is: 0.07989738649456556\n",
      "mean squared error is: 0.010176735747129463\n",
      "Root mean squared error is: 0.10087980842135587\n"
     ]
    }
   ],
   "source": [
    "# using svr with best parameter\n",
    "train_x,test_x,train_y,test_y=train_test_split(x,y,test_size=.2,random_state=42)\n",
    "svr=SVR(C=0.1,gamma=0.1)\n",
    "svr.fit(train_x,train_y)\n",
    "print(\"score :\",svr.score(train_x,train_y))\n",
    "pred=svr.predict(test_x)\n",
    "print(\"\\n\")\n",
    "print(\"Errors:\")\n",
    "print(\"r2 score is:\",r2_score(test_y,pred))\n",
    "print(\"mean absolute error is:\",mean_absolute_error(test_y,pred))\n",
    "print(\"mean squared error is:\",mean_squared_error(test_y,pred))\n",
    "print(\"Root mean squared error is:\",np.sqrt(mean_squared_error(test_y,pred)))"
   ]
  },
  {
   "cell_type": "code",
   "execution_count": 50,
   "metadata": {},
   "outputs": [
    {
     "name": "stdout",
     "output_type": "stream",
     "text": [
      "score of  ElasticNet() is: [0.31114082 0.51967458 0.50022389 0.29153089 0.17864027]\n",
      "mean score 0.3602420886614606\n",
      "standard deviation 0.13047988931020432\n",
      "\n",
      "\n"
     ]
    }
   ],
   "source": [
    "svr=SVR(C=0.1,gamma=0.1)\n",
    "score=cross_val_score(svr,x,y,cv=5,scoring='r2')\n",
    "print(\"score of \",m,\"is:\",score)\n",
    "print(\"mean score\",score.mean())\n",
    "print(\"standard deviation\",score.std())\n",
    "print('\\n')"
   ]
  },
  {
   "cell_type": "markdown",
   "metadata": {},
   "source": [
    "# Using ensemble techniques to boost score"
   ]
  },
  {
   "cell_type": "code",
   "execution_count": 51,
   "metadata": {},
   "outputs": [
    {
     "name": "stdout",
     "output_type": "stream",
     "text": [
      "score : 0.9743268335775985\n",
      "\n",
      "\n",
      "Errors:\n",
      "r2 score is: 0.8326808784260036\n",
      "mean absolute error is: 0.055061129568106285\n",
      "mean squared error is: 0.0056436633887043145\n",
      "Root mean squared error is: 0.07512431955568259\n"
     ]
    }
   ],
   "source": [
    "#using random forest\n",
    "from sklearn.ensemble import RandomForestRegressor\n",
    "rf=RandomForestRegressor(n_estimators=50,random_state=42)\n",
    "rf.fit(train_x,train_y)\n",
    "print(\"score :\",rf.score(train_x,train_y))\n",
    "pred=rf.predict(test_x)\n",
    "print(\"\\n\")\n",
    "print(\"Errors:\")\n",
    "print(\"r2 score is:\",r2_score(test_y,pred))\n",
    "print(\"mean absolute error is:\",mean_absolute_error(test_y,pred))\n",
    "print(\"mean squared error is:\",mean_squared_error(test_y,pred))\n",
    "print(\"Root mean squared error is:\",np.sqrt(mean_squared_error(test_y,pred)))"
   ]
  },
  {
   "cell_type": "code",
   "execution_count": 52,
   "metadata": {},
   "outputs": [
    {
     "name": "stdout",
     "output_type": "stream",
     "text": [
      "score : 0.8465403585490661\n",
      "\n",
      "\n",
      "Errors:\n",
      "r2 score is: 0.7858712380390642\n",
      "mean absolute error is: 0.06681098329086374\n",
      "mean squared error is: 0.0072225495985111954\n",
      "Root mean squared error is: 0.08498558465122891\n"
     ]
    }
   ],
   "source": [
    "# using Ada boost\n",
    "from sklearn.ensemble import AdaBoostRegressor\n",
    "svr=SVR()\n",
    "ab=AdaBoostRegressor(base_estimator=svr,n_estimators=200,learning_rate=0.1,random_state=42)\n",
    "ab.fit(train_x,train_y)\n",
    "print(\"score :\",ab.score(train_x,train_y))\n",
    "pred=ab.predict(test_x)\n",
    "print(\"\\n\")\n",
    "print(\"Errors:\")\n",
    "print(\"r2 score is:\",r2_score(test_y,pred))\n",
    "print(\"mean absolute error is:\",mean_absolute_error(test_y,pred))\n",
    "print(\"mean squared error is:\",mean_squared_error(test_y,pred))\n",
    "print(\"Root mean squared error is:\",np.sqrt(mean_squared_error(test_y,pred)))"
   ]
  },
  {
   "cell_type": "markdown",
   "metadata": {},
   "source": [
    "- we have use different models and from all of that __RandomForestRegressor__ is giving us best score with much reduce in errors\n",
    "so we will select this model and save this model"
   ]
  },
  {
   "cell_type": "markdown",
   "metadata": {},
   "source": [
    "### Best model"
   ]
  },
  {
   "cell_type": "code",
   "execution_count": 53,
   "metadata": {},
   "outputs": [
    {
     "name": "stdout",
     "output_type": "stream",
     "text": [
      "score : 0.9743268335775985\n",
      "\n",
      "\n",
      "Errors:\n",
      "r2 score is: 0.8326808784260036\n",
      "mean absolute error is: 0.055061129568106285\n",
      "mean squared error is: 0.0056436633887043145\n",
      "Root mean squared error is: 0.07512431955568259\n"
     ]
    }
   ],
   "source": [
    "# checking again random forest model then go for saving this model\n",
    "from sklearn.ensemble import RandomForestRegressor\n",
    "rf=RandomForestRegressor(n_estimators=50,random_state=42)\n",
    "rf.fit(train_x,train_y)\n",
    "print(\"score :\",rf.score(train_x,train_y))\n",
    "pred=rf.predict(test_x)\n",
    "print(\"\\n\")\n",
    "print(\"Errors:\")\n",
    "print(\"r2 score is:\",r2_score(test_y,pred))\n",
    "print(\"mean absolute error is:\",mean_absolute_error(test_y,pred))\n",
    "print(\"mean squared error is:\",mean_squared_error(test_y,pred))\n",
    "print(\"Root mean squared error is:\",np.sqrt(mean_squared_error(test_y,pred)))"
   ]
  },
  {
   "cell_type": "markdown",
   "metadata": {},
   "source": [
    "### Saving the best model"
   ]
  },
  {
   "cell_type": "code",
   "execution_count": 54,
   "metadata": {},
   "outputs": [
    {
     "data": {
      "text/plain": [
       "['rf.avacado.pkl']"
      ]
     },
     "execution_count": 54,
     "metadata": {},
     "output_type": "execute_result"
    }
   ],
   "source": [
    "# import the joblib library to save the model\n",
    "import joblib\n",
    "joblib.dump(rf,\"rf.avacado.pkl\")"
   ]
  },
  {
   "cell_type": "markdown",
   "metadata": {},
   "source": [
    "###### ."
   ]
  },
  {
   "cell_type": "markdown",
   "metadata": {},
   "source": [
    "# Task 2: Target variable-->Region"
   ]
  },
  {
   "cell_type": "markdown",
   "metadata": {},
   "source": [
    "#### Preprocessing"
   ]
  },
  {
   "cell_type": "code",
   "execution_count": 55,
   "metadata": {},
   "outputs": [
    {
     "data": {
      "text/html": [
       "<div>\n",
       "<style scoped>\n",
       "    .dataframe tbody tr th:only-of-type {\n",
       "        vertical-align: middle;\n",
       "    }\n",
       "\n",
       "    .dataframe tbody tr th {\n",
       "        vertical-align: top;\n",
       "    }\n",
       "\n",
       "    .dataframe thead th {\n",
       "        text-align: right;\n",
       "    }\n",
       "</style>\n",
       "<table border=\"1\" class=\"dataframe\">\n",
       "  <thead>\n",
       "    <tr style=\"text-align: right;\">\n",
       "      <th></th>\n",
       "      <th>Date</th>\n",
       "      <th>AveragePrice</th>\n",
       "      <th>Total Volume</th>\n",
       "      <th>4046</th>\n",
       "      <th>4225</th>\n",
       "      <th>4770</th>\n",
       "      <th>Total Bags</th>\n",
       "      <th>Small Bags</th>\n",
       "      <th>Large Bags</th>\n",
       "      <th>XLarge Bags</th>\n",
       "      <th>type</th>\n",
       "      <th>year</th>\n",
       "      <th>region</th>\n",
       "      <th>Month</th>\n",
       "      <th>day</th>\n",
       "    </tr>\n",
       "  </thead>\n",
       "  <tbody>\n",
       "    <tr>\n",
       "      <th>0</th>\n",
       "      <td>2015-12-27</td>\n",
       "      <td>1.33</td>\n",
       "      <td>64236.62</td>\n",
       "      <td>1036.74</td>\n",
       "      <td>54454.85</td>\n",
       "      <td>48.16</td>\n",
       "      <td>8696.87</td>\n",
       "      <td>8603.62</td>\n",
       "      <td>93.25</td>\n",
       "      <td>0.0</td>\n",
       "      <td>conventional</td>\n",
       "      <td>2015</td>\n",
       "      <td>Albany</td>\n",
       "      <td>12</td>\n",
       "      <td>27</td>\n",
       "    </tr>\n",
       "    <tr>\n",
       "      <th>1</th>\n",
       "      <td>2015-12-20</td>\n",
       "      <td>1.35</td>\n",
       "      <td>54876.98</td>\n",
       "      <td>674.28</td>\n",
       "      <td>44638.81</td>\n",
       "      <td>58.33</td>\n",
       "      <td>9505.56</td>\n",
       "      <td>9408.07</td>\n",
       "      <td>97.49</td>\n",
       "      <td>0.0</td>\n",
       "      <td>conventional</td>\n",
       "      <td>2015</td>\n",
       "      <td>Albany</td>\n",
       "      <td>12</td>\n",
       "      <td>20</td>\n",
       "    </tr>\n",
       "    <tr>\n",
       "      <th>2</th>\n",
       "      <td>2015-12-13</td>\n",
       "      <td>0.93</td>\n",
       "      <td>118220.22</td>\n",
       "      <td>794.70</td>\n",
       "      <td>109149.67</td>\n",
       "      <td>130.50</td>\n",
       "      <td>8145.35</td>\n",
       "      <td>8042.21</td>\n",
       "      <td>103.14</td>\n",
       "      <td>0.0</td>\n",
       "      <td>conventional</td>\n",
       "      <td>2015</td>\n",
       "      <td>Albany</td>\n",
       "      <td>12</td>\n",
       "      <td>13</td>\n",
       "    </tr>\n",
       "    <tr>\n",
       "      <th>3</th>\n",
       "      <td>2015-12-06</td>\n",
       "      <td>1.08</td>\n",
       "      <td>78992.15</td>\n",
       "      <td>1132.00</td>\n",
       "      <td>71976.41</td>\n",
       "      <td>72.58</td>\n",
       "      <td>5811.16</td>\n",
       "      <td>5677.40</td>\n",
       "      <td>133.76</td>\n",
       "      <td>0.0</td>\n",
       "      <td>conventional</td>\n",
       "      <td>2015</td>\n",
       "      <td>Albany</td>\n",
       "      <td>12</td>\n",
       "      <td>6</td>\n",
       "    </tr>\n",
       "    <tr>\n",
       "      <th>4</th>\n",
       "      <td>2015-11-29</td>\n",
       "      <td>1.28</td>\n",
       "      <td>51039.60</td>\n",
       "      <td>941.48</td>\n",
       "      <td>43838.39</td>\n",
       "      <td>75.78</td>\n",
       "      <td>6183.95</td>\n",
       "      <td>5986.26</td>\n",
       "      <td>197.69</td>\n",
       "      <td>0.0</td>\n",
       "      <td>conventional</td>\n",
       "      <td>2015</td>\n",
       "      <td>Albany</td>\n",
       "      <td>11</td>\n",
       "      <td>29</td>\n",
       "    </tr>\n",
       "  </tbody>\n",
       "</table>\n",
       "</div>"
      ],
      "text/plain": [
       "        Date  AveragePrice  Total Volume     4046       4225    4770  \\\n",
       "0 2015-12-27          1.33      64236.62  1036.74   54454.85   48.16   \n",
       "1 2015-12-20          1.35      54876.98   674.28   44638.81   58.33   \n",
       "2 2015-12-13          0.93     118220.22   794.70  109149.67  130.50   \n",
       "3 2015-12-06          1.08      78992.15  1132.00   71976.41   72.58   \n",
       "4 2015-11-29          1.28      51039.60   941.48   43838.39   75.78   \n",
       "\n",
       "   Total Bags  Small Bags  Large Bags  XLarge Bags          type  year  \\\n",
       "0     8696.87     8603.62       93.25          0.0  conventional  2015   \n",
       "1     9505.56     9408.07       97.49          0.0  conventional  2015   \n",
       "2     8145.35     8042.21      103.14          0.0  conventional  2015   \n",
       "3     5811.16     5677.40      133.76          0.0  conventional  2015   \n",
       "4     6183.95     5986.26      197.69          0.0  conventional  2015   \n",
       "\n",
       "   region  Month  day  \n",
       "0  Albany     12   27  \n",
       "1  Albany     12   20  \n",
       "2  Albany     12   13  \n",
       "3  Albany     12    6  \n",
       "4  Albany     11   29  "
      ]
     },
     "execution_count": 55,
     "metadata": {},
     "output_type": "execute_result"
    }
   ],
   "source": [
    "df_a.head()"
   ]
  },
  {
   "cell_type": "code",
   "execution_count": 56,
   "metadata": {},
   "outputs": [],
   "source": [
    "# target variable is categorical names of region,\n",
    "# so need to convert in numerical format so using labelencoder so machine can learn the data\n",
    "from sklearn.preprocessing import LabelEncoder\n",
    "le=LabelEncoder()\n",
    "df_a[\"region\"]=le.fit_transform(df_a[\"region\"])"
   ]
  },
  {
   "cell_type": "code",
   "execution_count": 57,
   "metadata": {},
   "outputs": [
    {
     "data": {
      "text/plain": [
       "51"
      ]
     },
     "execution_count": 57,
     "metadata": {},
     "output_type": "execute_result"
    }
   ],
   "source": [
    "df_a[\"region\"].nunique()"
   ]
  },
  {
   "cell_type": "code",
   "execution_count": 58,
   "metadata": {},
   "outputs": [],
   "source": [
    "#dropping the column name  type and date\n",
    "df_f=df_a.drop(['type','Date'],axis=1)"
   ]
  },
  {
   "cell_type": "code",
   "execution_count": 59,
   "metadata": {},
   "outputs": [
    {
     "data": {
      "text/plain": [
       "AveragePrice   -0.109444\n",
       "Total Volume    6.200138\n",
       "4046            6.051830\n",
       "4225            6.394926\n",
       "4770            5.405164\n",
       "Total Bags      5.366378\n",
       "Small Bags      5.355185\n",
       "Large Bags      5.144495\n",
       "XLarge Bags     5.775077\n",
       "year            1.828332\n",
       "region          0.288146\n",
       "Month           0.233418\n",
       "day             0.027740\n",
       "dtype: float64"
      ]
     },
     "execution_count": 59,
     "metadata": {},
     "output_type": "execute_result"
    }
   ],
   "source": [
    "#checking the skewness \n",
    "df_f.skew()"
   ]
  },
  {
   "cell_type": "code",
   "execution_count": 60,
   "metadata": {},
   "outputs": [],
   "source": [
    "# Treating the skewness in the data by log transform\n",
    "\n",
    "for col in df_f.columns:\n",
    "    if df_f[col].skew()>0.55:\n",
    "        df_f[col]=np.log1p(df_f[col])"
   ]
  },
  {
   "cell_type": "code",
   "execution_count": 61,
   "metadata": {},
   "outputs": [
    {
     "data": {
      "text/plain": [
       "AveragePrice   -0.109444\n",
       "Total Volume    0.667468\n",
       "4046           -0.160268\n",
       "4225            0.184436\n",
       "4770           -0.355508\n",
       "Total Bags      0.695502\n",
       "Small Bags      0.713843\n",
       "Large Bags     -0.912766\n",
       "XLarge Bags     0.783913\n",
       "year            1.828332\n",
       "region          0.288146\n",
       "Month           0.233418\n",
       "day             0.027740\n",
       "dtype: float64"
      ]
     },
     "execution_count": 61,
     "metadata": {},
     "output_type": "execute_result"
    }
   ],
   "source": [
    "df_f.skew()"
   ]
  },
  {
   "cell_type": "markdown",
   "metadata": {},
   "source": [
    "### Removing outliners"
   ]
  },
  {
   "cell_type": "code",
   "execution_count": 62,
   "metadata": {},
   "outputs": [
    {
     "name": "stdout",
     "output_type": "stream",
     "text": [
      "(1517, 13)\n",
      "(1502, 13)\n"
     ]
    }
   ],
   "source": [
    "from scipy.stats import zscore\n",
    "z=np.abs(zscore(df_f))\n",
    "threshold=3\n",
    "df_n=df_f[(z<3).all(axis=1)]\n",
    "print(df_f.shape)\n",
    "print(df_n.shape)"
   ]
  },
  {
   "cell_type": "markdown",
   "metadata": {},
   "source": [
    "- shape of the data decreases after applying zscore so there were outliners which has been removed"
   ]
  },
  {
   "cell_type": "markdown",
   "metadata": {},
   "source": [
    "\n",
    "## Model selection/predictions\n",
    "-Now our data are ready! lets apply our model which is going to be the Classification techniques because our Target variable 'Region' is categorical."
   ]
  },
  {
   "cell_type": "code",
   "execution_count": 63,
   "metadata": {},
   "outputs": [
    {
     "data": {
      "text/plain": [
       "array([0, 0, 0, ..., 7, 7, 7])"
      ]
     },
     "execution_count": 63,
     "metadata": {},
     "output_type": "execute_result"
    }
   ],
   "source": [
    "df_X=df_n.drop(['region'],axis=1)\n",
    "Y=df_n['region']\n",
    "Y.values.ravel()"
   ]
  },
  {
   "cell_type": "code",
   "execution_count": 64,
   "metadata": {},
   "outputs": [],
   "source": [
    "#scaling the input variables\n",
    "from sklearn.preprocessing import StandardScaler\n",
    "sc=StandardScaler()\n",
    "X=sc.fit_transform(df_X)\n",
    "X=pd.DataFrame(X,columns=df_X.columns)"
   ]
  },
  {
   "cell_type": "code",
   "execution_count": 65,
   "metadata": {},
   "outputs": [
    {
     "data": {
      "text/plain": [
       "AveragePrice   -0.149019\n",
       "Total Volume    0.592040\n",
       "4046           -0.203940\n",
       "4225            0.122951\n",
       "4770           -0.371693\n",
       "Total Bags      0.621617\n",
       "Small Bags      0.643635\n",
       "Large Bags     -0.934829\n",
       "XLarge Bags     0.796336\n",
       "year            1.838704\n",
       "Month           0.230761\n",
       "day             0.026187\n",
       "dtype: float64"
      ]
     },
     "execution_count": 65,
     "metadata": {},
     "output_type": "execute_result"
    }
   ],
   "source": [
    "X.skew()"
   ]
  },
  {
   "cell_type": "code",
   "execution_count": 66,
   "metadata": {},
   "outputs": [],
   "source": [
    "# breaking our input and target variable into train and test data\n",
    "from sklearn.model_selection import train_test_split\n",
    "x_train,x_test,y_train,y_test=train_test_split(X,Y,test_size=.2,random_state=42)"
   ]
  },
  {
   "cell_type": "code",
   "execution_count": 67,
   "metadata": {},
   "outputs": [],
   "source": [
    "# importing model for classification\n",
    "from sklearn.naive_bayes import MultinomialNB\n",
    "from sklearn.svm import SVC\n",
    "from sklearn.tree import DecisionTreeClassifier\n",
    "from sklearn.neighbors import KNeighborsClassifier\n",
    "\n",
    "#importing metrics\n",
    "from sklearn.metrics import accuracy_score\n",
    "from sklearn.metrics import confusion_matrix,classification_report\n",
    "from sklearn.metrics import precision_score"
   ]
  },
  {
   "cell_type": "code",
   "execution_count": 68,
   "metadata": {},
   "outputs": [
    {
     "name": "stdout",
     "output_type": "stream",
     "text": [
      "\n",
      "\n",
      "accuracy score of  SVC() is 0.9302325581395349\n",
      "\n",
      "\n",
      "[[ 9  0  0 ...  0  0  0]\n",
      " [ 0 16  0 ...  0  0  0]\n",
      " [ 0  0 13 ...  0  0  0]\n",
      " ...\n",
      " [ 0  0  0 ...  2  0  0]\n",
      " [ 0  0  0 ...  0  7  0]\n",
      " [ 0  0  0 ...  0  0  7]]\n",
      "\n",
      "\n",
      "              precision    recall  f1-score   support\n",
      "\n",
      "           0       1.00      0.90      0.95        10\n",
      "           1       0.94      1.00      0.97        16\n",
      "           2       1.00      1.00      1.00        13\n",
      "           3       1.00      1.00      1.00         5\n",
      "           4       1.00      1.00      1.00         7\n",
      "           5       1.00      1.00      1.00         7\n",
      "           6       0.95      1.00      0.97        18\n",
      "           7       1.00      0.83      0.91         6\n",
      "           8       1.00      1.00      1.00         7\n",
      "           9       0.90      1.00      0.95         9\n",
      "          10       0.67      0.40      0.50         5\n",
      "          11       1.00      1.00      1.00         2\n",
      "          12       1.00      1.00      1.00        11\n",
      "          13       0.80      1.00      0.89         4\n",
      "          14       1.00      1.00      1.00         3\n",
      "          15       1.00      1.00      1.00        10\n",
      "          16       1.00      1.00      1.00         1\n",
      "          17       0.60      1.00      0.75         6\n",
      "          18       1.00      0.80      0.89         5\n",
      "          19       1.00      1.00      1.00         8\n",
      "          20       1.00      1.00      1.00         1\n",
      "          22       0.86      1.00      0.92         6\n",
      "          23       1.00      0.40      0.57         5\n",
      "          24       1.00      1.00      1.00         5\n",
      "          25       1.00      0.88      0.93         8\n",
      "          26       1.00      1.00      1.00         6\n",
      "          28       1.00      1.00      1.00         7\n",
      "          29       0.57      0.80      0.67         5\n",
      "          30       1.00      1.00      1.00         3\n",
      "          31       0.91      0.83      0.87        12\n",
      "          32       1.00      0.75      0.86         4\n",
      "          33       1.00      1.00      1.00         2\n",
      "          34       0.73      1.00      0.84         8\n",
      "          35       0.67      1.00      0.80         2\n",
      "          36       0.83      1.00      0.91         5\n",
      "          37       1.00      1.00      1.00         2\n",
      "          38       1.00      0.67      0.80         6\n",
      "          39       1.00      1.00      1.00         1\n",
      "          40       1.00      0.00      0.00         3\n",
      "          41       1.00      1.00      1.00         6\n",
      "          42       1.00      0.88      0.93         8\n",
      "          43       1.00      1.00      1.00         1\n",
      "          44       1.00      0.93      0.96        14\n",
      "          45       1.00      1.00      1.00         2\n",
      "          46       0.83      1.00      0.91         5\n",
      "          47       1.00      1.00      1.00         5\n",
      "          48       1.00      1.00      1.00         2\n",
      "          49       1.00      1.00      1.00         7\n",
      "          50       0.88      1.00      0.93         7\n",
      "\n",
      "    accuracy                           0.93       301\n",
      "   macro avg       0.94      0.92      0.91       301\n",
      "weighted avg       0.94      0.93      0.92       301\n",
      "\n",
      "\n",
      "\n",
      "precision score 0.9413975501342027\n",
      "-----------------------------------------------------------------------------------------------------------\n",
      "\n",
      "\n",
      "accuracy score of  DecisionTreeClassifier() is 0.8870431893687708\n",
      "\n",
      "\n",
      "[[ 9  0  0 ...  0  0  0]\n",
      " [ 0 15  0 ...  0  0  0]\n",
      " [ 0  0 12 ...  0  0  0]\n",
      " ...\n",
      " [ 0  0  0 ...  2  0  0]\n",
      " [ 0  0  0 ...  0  7  0]\n",
      " [ 0  0  0 ...  0  0  7]]\n",
      "\n",
      "\n",
      "              precision    recall  f1-score   support\n",
      "\n",
      "           0       0.75      0.90      0.82        10\n",
      "           1       1.00      0.94      0.97        16\n",
      "           2       1.00      0.92      0.96        13\n",
      "           3       1.00      1.00      1.00         5\n",
      "           4       0.88      1.00      0.93         7\n",
      "           5       0.88      1.00      0.93         7\n",
      "           6       0.90      1.00      0.95        18\n",
      "           7       0.60      1.00      0.75         6\n",
      "           8       1.00      1.00      1.00         7\n",
      "           9       1.00      0.78      0.88         9\n",
      "          10       0.67      0.40      0.50         5\n",
      "          11       0.67      1.00      0.80         2\n",
      "          12       0.91      0.91      0.91        11\n",
      "          13       1.00      1.00      1.00         4\n",
      "          14       1.00      0.67      0.80         3\n",
      "          15       1.00      1.00      1.00        10\n",
      "          16       0.50      1.00      0.67         1\n",
      "          17       0.80      0.67      0.73         6\n",
      "          18       1.00      1.00      1.00         5\n",
      "          19       0.80      1.00      0.89         8\n",
      "          20       0.50      1.00      0.67         1\n",
      "          21       0.00      1.00      0.00         0\n",
      "          22       1.00      0.83      0.91         6\n",
      "          23       0.83      1.00      0.91         5\n",
      "          24       1.00      1.00      1.00         5\n",
      "          25       1.00      1.00      1.00         8\n",
      "          26       1.00      1.00      1.00         6\n",
      "          28       1.00      0.86      0.92         7\n",
      "          29       0.67      0.40      0.50         5\n",
      "          30       1.00      0.67      0.80         3\n",
      "          31       0.83      0.83      0.83        12\n",
      "          32       1.00      1.00      1.00         4\n",
      "          33       1.00      1.00      1.00         2\n",
      "          34       0.67      1.00      0.80         8\n",
      "          35       1.00      0.00      0.00         2\n",
      "          36       1.00      0.40      0.57         5\n",
      "          37       1.00      0.50      0.67         2\n",
      "          38       1.00      0.50      0.67         6\n",
      "          39       1.00      1.00      1.00         1\n",
      "          40       1.00      1.00      1.00         3\n",
      "          41       0.67      1.00      0.80         6\n",
      "          42       1.00      0.75      0.86         8\n",
      "          43       1.00      1.00      1.00         1\n",
      "          44       1.00      0.86      0.92        14\n",
      "          45       1.00      1.00      1.00         2\n",
      "          46       0.80      0.80      0.80         5\n",
      "          47       1.00      1.00      1.00         5\n",
      "          48       1.00      1.00      1.00         2\n",
      "          49       0.88      1.00      0.93         7\n",
      "          50       0.88      1.00      0.93         7\n",
      "\n",
      "    accuracy                           0.89       301\n",
      "   macro avg       0.88      0.87      0.84       301\n",
      "weighted avg       0.91      0.89      0.88       301\n",
      "\n",
      "\n",
      "\n",
      "precision score 0.8811818181818183\n",
      "-----------------------------------------------------------------------------------------------------------\n",
      "\n",
      "\n",
      "accuracy score of  KNeighborsClassifier() is 0.8803986710963455\n",
      "\n",
      "\n",
      "[[ 9  0  0 ...  0  0  0]\n",
      " [ 0 15  0 ...  0  0  0]\n",
      " [ 0  0 12 ...  0  0  0]\n",
      " ...\n",
      " [ 0  0  0 ...  2  0  0]\n",
      " [ 0  0  0 ...  0  6  0]\n",
      " [ 0  0  0 ...  0  0  6]]\n",
      "\n",
      "\n",
      "              precision    recall  f1-score   support\n",
      "\n",
      "           0       0.90      0.90      0.90        10\n",
      "           1       0.88      0.94      0.91        16\n",
      "           2       0.75      0.92      0.83        13\n",
      "           3       0.71      1.00      0.83         5\n",
      "           4       1.00      1.00      1.00         7\n",
      "           5       1.00      0.86      0.92         7\n",
      "           6       0.95      1.00      0.97        18\n",
      "           7       1.00      1.00      1.00         6\n",
      "           8       0.80      0.57      0.67         7\n",
      "           9       0.75      1.00      0.86         9\n",
      "          10       0.80      0.80      0.80         5\n",
      "          11       0.67      1.00      0.80         2\n",
      "          12       1.00      1.00      1.00        11\n",
      "          13       0.75      0.75      0.75         4\n",
      "          14       1.00      1.00      1.00         3\n",
      "          15       0.91      1.00      0.95        10\n",
      "          16       1.00      1.00      1.00         1\n",
      "          17       0.75      1.00      0.86         6\n",
      "          18       0.80      0.80      0.80         5\n",
      "          19       1.00      1.00      1.00         8\n",
      "          20       1.00      1.00      1.00         1\n",
      "          22       0.86      1.00      0.92         6\n",
      "          23       0.75      0.60      0.67         5\n",
      "          24       0.83      1.00      0.91         5\n",
      "          25       1.00      0.62      0.77         8\n",
      "          26       1.00      1.00      1.00         6\n",
      "          28       1.00      1.00      1.00         7\n",
      "          29       0.67      0.40      0.50         5\n",
      "          30       1.00      0.33      0.50         3\n",
      "          31       0.82      0.75      0.78        12\n",
      "          32       1.00      0.75      0.86         4\n",
      "          33       1.00      1.00      1.00         2\n",
      "          34       0.80      1.00      0.89         8\n",
      "          35       1.00      1.00      1.00         2\n",
      "          36       0.71      1.00      0.83         5\n",
      "          37       1.00      1.00      1.00         2\n",
      "          38       1.00      0.67      0.80         6\n",
      "          39       1.00      0.00      0.00         1\n",
      "          40       1.00      0.33      0.50         3\n",
      "          41       1.00      1.00      1.00         6\n",
      "          42       1.00      0.88      0.93         8\n",
      "          43       1.00      1.00      1.00         1\n",
      "          44       1.00      0.71      0.83        14\n",
      "          45       1.00      1.00      1.00         2\n",
      "          46       0.83      1.00      0.91         5\n",
      "          47       0.71      1.00      0.83         5\n",
      "          48       1.00      1.00      1.00         2\n",
      "          49       1.00      0.86      0.92         7\n",
      "          50       0.75      0.86      0.80         7\n",
      "\n",
      "    accuracy                           0.88       301\n",
      "   macro avg       0.90      0.86      0.86       301\n",
      "weighted avg       0.89      0.88      0.87       301\n",
      "\n",
      "\n",
      "\n",
      "precision score 0.9011631446837108\n",
      "-----------------------------------------------------------------------------------------------------------\n"
     ]
    }
   ],
   "source": [
    "Model=[SVC(),DecisionTreeClassifier(), KNeighborsClassifier()]\n",
    "for M in Model:\n",
    "    M.fit(x_train,y_train)\n",
    "    predm=M.predict(x_test)\n",
    "    print('\\n')\n",
    "    print(\"accuracy score of \",M,'is',accuracy_score(y_test,predm))\n",
    "    print('\\n')\n",
    "    print(confusion_matrix(y_test,predm))\n",
    "    print('\\n')\n",
    "    print(classification_report(y_test,predm,zero_division=1))\n",
    "    print('\\n')\n",
    "    print(\"precision score\",precision_score(y_test,predm,average='macro',zero_division=1))\n",
    "    print(\"-----------------------------------------------------------------------------------------------------------\")"
   ]
  },
  {
   "cell_type": "code",
   "execution_count": 69,
   "metadata": {},
   "outputs": [
    {
     "name": "stdout",
     "output_type": "stream",
     "text": [
      "scores of  SVC()\n",
      "mean score 0.7689673985362608\n",
      "Standard deviation 0.07050634670679486\n",
      "\n",
      "-------------------------------------------------------------------------------------------------------\n",
      "scores of  DecisionTreeClassifier()\n",
      "mean score 0.6810525615435795\n",
      "Standard deviation 0.09301581329553958\n",
      "\n",
      "-------------------------------------------------------------------------------------------------------\n",
      "scores of  KNeighborsClassifier()\n",
      "mean score 0.7236899534264803\n",
      "Standard deviation 0.059989037230141824\n",
      "\n",
      "-------------------------------------------------------------------------------------------------------\n"
     ]
    }
   ],
   "source": [
    "from sklearn.model_selection import cross_val_score\n",
    "Model=[SVC(),DecisionTreeClassifier(), KNeighborsClassifier()]\n",
    "for i in Model:\n",
    "    scores=cross_val_score(i,X,Y,cv=3)\n",
    "    print(\"scores of \",i)\n",
    "    print(\"mean score\",scores.mean())\n",
    "    print(\"Standard deviation\",scores.std())\n",
    "    print('\\n-------------------------------------------------------------------------------------------------------')"
   ]
  },
  {
   "cell_type": "markdown",
   "metadata": {},
   "source": [
    "### SVC is giving maximum accuracy"
   ]
  },
  {
   "cell_type": "code",
   "execution_count": 70,
   "metadata": {},
   "outputs": [
    {
     "name": "stderr",
     "output_type": "stream",
     "text": [
      "C:\\Users\\8.1\\AppData\\Roaming\\Python\\Python37\\site-packages\\sklearn\\model_selection\\_split.py:672: UserWarning: The least populated class in y has only 3 members, which is less than n_splits=5.\n",
      "  % (min_groups, self.n_splits)), UserWarning)\n"
     ]
    },
    {
     "data": {
      "text/plain": [
       "{'C': 10, 'gamma': 0.1}"
      ]
     },
     "execution_count": 70,
     "metadata": {},
     "output_type": "execute_result"
    }
   ],
   "source": [
    "#svr is giving best score so now we will find the best parameter for this model\n",
    "from sklearn.model_selection import GridSearchCV\n",
    "svc=SVC()\n",
    "parameters={'C': [0.1, 1, 10],  \n",
    "              'gamma': [1, 0.1, 0.01]}\n",
    "gss=GridSearchCV(svc,parameters)\n",
    "gss.fit(X,Y)\n",
    "gss.best_params_"
   ]
  },
  {
   "cell_type": "code",
   "execution_count": 71,
   "metadata": {},
   "outputs": [
    {
     "name": "stdout",
     "output_type": "stream",
     "text": [
      "\n",
      "\n",
      "accuracy score of  SVC(C=10, gamma=0.1) is 0.9700996677740864\n",
      "\n",
      "\n",
      "[[ 9  0  0 ...  0  0  0]\n",
      " [ 0 16  0 ...  0  0  0]\n",
      " [ 0  0 13 ...  0  0  0]\n",
      " ...\n",
      " [ 0  0  0 ...  2  0  0]\n",
      " [ 0  0  0 ...  0  7  0]\n",
      " [ 0  0  0 ...  0  0  7]]\n",
      "\n",
      "\n",
      "              precision    recall  f1-score   support\n",
      "\n",
      "           0       1.00      0.90      0.95        10\n",
      "           1       0.94      1.00      0.97        16\n",
      "           2       1.00      1.00      1.00        13\n",
      "           3       1.00      1.00      1.00         5\n",
      "           4       1.00      1.00      1.00         7\n",
      "           5       1.00      1.00      1.00         7\n",
      "           6       1.00      1.00      1.00        18\n",
      "           7       1.00      1.00      1.00         6\n",
      "           8       1.00      1.00      1.00         7\n",
      "           9       0.90      1.00      0.95         9\n",
      "          10       1.00      0.80      0.89         5\n",
      "          11       1.00      1.00      1.00         2\n",
      "          12       1.00      1.00      1.00        11\n",
      "          13       1.00      1.00      1.00         4\n",
      "          14       1.00      1.00      1.00         3\n",
      "          15       1.00      1.00      1.00        10\n",
      "          16       1.00      1.00      1.00         1\n",
      "          17       0.86      1.00      0.92         6\n",
      "          18       1.00      1.00      1.00         5\n",
      "          19       1.00      1.00      1.00         8\n",
      "          20       1.00      1.00      1.00         1\n",
      "          22       1.00      1.00      1.00         6\n",
      "          23       1.00      1.00      1.00         5\n",
      "          24       1.00      1.00      1.00         5\n",
      "          25       1.00      0.88      0.93         8\n",
      "          26       1.00      1.00      1.00         6\n",
      "          28       1.00      1.00      1.00         7\n",
      "          29       1.00      0.80      0.89         5\n",
      "          30       1.00      1.00      1.00         3\n",
      "          31       0.86      1.00      0.92        12\n",
      "          32       1.00      1.00      1.00         4\n",
      "          33       1.00      1.00      1.00         2\n",
      "          34       0.88      0.88      0.88         8\n",
      "          35       1.00      1.00      1.00         2\n",
      "          36       0.83      1.00      0.91         5\n",
      "          37       1.00      1.00      1.00         2\n",
      "          38       1.00      0.83      0.91         6\n",
      "          39       1.00      1.00      1.00         1\n",
      "          40       1.00      0.67      0.80         3\n",
      "          41       1.00      1.00      1.00         6\n",
      "          42       1.00      0.88      0.93         8\n",
      "          43       1.00      1.00      1.00         1\n",
      "          44       1.00      0.93      0.96        14\n",
      "          45       1.00      1.00      1.00         2\n",
      "          46       0.83      1.00      0.91         5\n",
      "          47       1.00      1.00      1.00         5\n",
      "          48       1.00      1.00      1.00         2\n",
      "          49       0.88      1.00      0.93         7\n",
      "          50       1.00      1.00      1.00         7\n",
      "\n",
      "    accuracy                           0.97       301\n",
      "   macro avg       0.98      0.97      0.97       301\n",
      "weighted avg       0.97      0.97      0.97       301\n",
      "\n",
      "\n",
      "\n",
      "precision score 0.9790230377865432\n"
     ]
    }
   ],
   "source": [
    "# using svr with best parameter\n",
    "train_x,test_x,train_y,test_y=train_test_split(x,y,test_size=.2,random_state=42)\n",
    "svc=SVC(C=10,gamma=0.1)\n",
    "svc.fit(x_train,y_train)\n",
    "predm=svc.predict(x_test)\n",
    "print('\\n')\n",
    "print(\"accuracy score of \",svc,'is',accuracy_score(y_test,predm))\n",
    "print('\\n')\n",
    "print(confusion_matrix(y_test,predm))\n",
    "print('\\n')\n",
    "print(classification_report(y_test,predm,zero_division=1))\n",
    "print('\\n')\n",
    "print(\"precision score\",precision_score(y_test,predm,average='macro',zero_division=1))\n"
   ]
  },
  {
   "cell_type": "code",
   "execution_count": 72,
   "metadata": {},
   "outputs": [
    {
     "name": "stdout",
     "output_type": "stream",
     "text": [
      "score:\n",
      "mean score 0.8448649367930804\n",
      "Standard deviation 0.055348758936569514\n"
     ]
    }
   ],
   "source": [
    "svc=SVC(C=10,gamma=0.1)\n",
    "scores=cross_val_score(svc,X,Y,cv=3)\n",
    "print(\"score:\")\n",
    "print(\"mean score\",scores.mean())\n",
    "print(\"Standard deviation\",scores.std())\n"
   ]
  },
  {
   "cell_type": "code",
   "execution_count": 73,
   "metadata": {},
   "outputs": [
    {
     "name": "stdout",
     "output_type": "stream",
     "text": [
      "\n",
      "\n",
      "accuracy score of is 0.9601328903654485\n",
      "\n",
      "\n",
      "[[10  0  0 ...  0  0  0]\n",
      " [ 0 16  0 ...  0  0  0]\n",
      " [ 0  0 13 ...  0  0  0]\n",
      " ...\n",
      " [ 0  0  0 ...  2  0  0]\n",
      " [ 0  0  0 ...  0  7  0]\n",
      " [ 0  0  0 ...  0  0  7]]\n",
      "\n",
      "\n",
      "              precision    recall  f1-score   support\n",
      "\n",
      "           0       0.83      1.00      0.91        10\n",
      "           1       1.00      1.00      1.00        16\n",
      "           2       1.00      1.00      1.00        13\n",
      "           3       1.00      1.00      1.00         5\n",
      "           4       1.00      1.00      1.00         7\n",
      "           5       1.00      1.00      1.00         7\n",
      "           6       0.95      1.00      0.97        18\n",
      "           7       0.86      1.00      0.92         6\n",
      "           8       1.00      1.00      1.00         7\n",
      "           9       1.00      1.00      1.00         9\n",
      "          10       1.00      0.80      0.89         5\n",
      "          11       1.00      1.00      1.00         2\n",
      "          12       1.00      1.00      1.00        11\n",
      "          13       1.00      1.00      1.00         4\n",
      "          14       1.00      1.00      1.00         3\n",
      "          15       1.00      1.00      1.00        10\n",
      "          16       0.50      1.00      0.67         1\n",
      "          17       0.71      0.83      0.77         6\n",
      "          18       1.00      1.00      1.00         5\n",
      "          19       1.00      1.00      1.00         8\n",
      "          20       1.00      1.00      1.00         1\n",
      "          22       1.00      0.83      0.91         6\n",
      "          23       1.00      1.00      1.00         5\n",
      "          24       1.00      1.00      1.00         5\n",
      "          25       1.00      1.00      1.00         8\n",
      "          26       1.00      1.00      1.00         6\n",
      "          28       1.00      0.86      0.92         7\n",
      "          29       1.00      0.80      0.89         5\n",
      "          30       1.00      1.00      1.00         3\n",
      "          31       0.77      0.83      0.80        12\n",
      "          32       1.00      1.00      1.00         4\n",
      "          33       1.00      1.00      1.00         2\n",
      "          34       1.00      1.00      1.00         8\n",
      "          35       1.00      0.50      0.67         2\n",
      "          36       1.00      1.00      1.00         5\n",
      "          37       1.00      1.00      1.00         2\n",
      "          38       1.00      0.67      0.80         6\n",
      "          39       1.00      1.00      1.00         1\n",
      "          40       1.00      1.00      1.00         3\n",
      "          41       1.00      1.00      1.00         6\n",
      "          42       1.00      0.88      0.93         8\n",
      "          43       1.00      1.00      1.00         1\n",
      "          44       1.00      1.00      1.00        14\n",
      "          45       1.00      1.00      1.00         2\n",
      "          46       1.00      0.80      0.89         5\n",
      "          47       0.83      1.00      0.91         5\n",
      "          48       1.00      1.00      1.00         2\n",
      "          49       1.00      1.00      1.00         7\n",
      "          50       0.88      1.00      0.93         7\n",
      "\n",
      "    accuracy                           0.96       301\n",
      "   macro avg       0.97      0.96      0.95       301\n",
      "weighted avg       0.97      0.96      0.96       301\n",
      "\n",
      "\n",
      "\n",
      "precision score 0.965912131191401\n"
     ]
    }
   ],
   "source": [
    "#using random forest\n",
    "from sklearn.ensemble import RandomForestClassifier\n",
    "rfc=RandomForestClassifier(n_estimators=50,random_state=42)\n",
    "rfc.fit(x_train,y_train)\n",
    "predm=rfc.predict(x_test)\n",
    "print('\\n')\n",
    "print(\"accuracy score of is\",accuracy_score(y_test,predm))\n",
    "print('\\n')\n",
    "print(confusion_matrix(y_test,predm))\n",
    "print('\\n')\n",
    "print(classification_report(y_test,predm,zero_division=1))\n",
    "print('\\n')\n",
    "print(\"precision score\",precision_score(y_test,predm,average='macro',zero_division=1))\n"
   ]
  },
  {
   "cell_type": "code",
   "execution_count": 74,
   "metadata": {},
   "outputs": [
    {
     "name": "stdout",
     "output_type": "stream",
     "text": [
      "\n",
      "\n",
      "accuracy score of is 0.5880398671096345\n",
      "\n",
      "\n",
      "[[ 0  0  0 ...  0  0  0]\n",
      " [ 0 16  0 ...  0  0  0]\n",
      " [ 0  0 13 ...  0  0  0]\n",
      " ...\n",
      " [ 0  0  0 ...  0  0  0]\n",
      " [ 0  0  0 ...  0  0  0]\n",
      " [ 0  0  0 ...  0  0  4]]\n",
      "\n",
      "\n",
      "              precision    recall  f1-score   support\n",
      "\n",
      "           0       1.00      0.00      0.00        10\n",
      "           1       0.53      1.00      0.70        16\n",
      "           2       0.65      1.00      0.79        13\n",
      "           3       0.83      1.00      0.91         5\n",
      "           4       0.70      1.00      0.82         7\n",
      "           5       0.86      0.86      0.86         7\n",
      "           6       1.00      0.72      0.84        18\n",
      "           7       1.00      0.50      0.67         6\n",
      "           8       1.00      0.00      0.00         7\n",
      "           9       0.20      0.11      0.14         9\n",
      "          10       0.67      0.40      0.50         5\n",
      "          11       0.67      1.00      0.80         2\n",
      "          12       1.00      0.00      0.00        11\n",
      "          13       1.00      1.00      1.00         4\n",
      "          14       0.08      0.33      0.13         3\n",
      "          15       1.00      1.00      1.00        10\n",
      "          16       1.00      1.00      1.00         1\n",
      "          17       1.00      0.83      0.91         6\n",
      "          18       0.17      1.00      0.29         5\n",
      "          19       0.80      1.00      0.89         8\n",
      "          20       1.00      1.00      1.00         1\n",
      "          22       1.00      0.00      0.00         6\n",
      "          23       1.00      0.00      0.00         5\n",
      "          24       1.00      0.00      0.00         5\n",
      "          25       1.00      0.50      0.67         8\n",
      "          26       1.00      1.00      1.00         6\n",
      "          28       1.00      0.86      0.92         7\n",
      "          29       1.00      0.00      0.00         5\n",
      "          30       1.00      0.33      0.50         3\n",
      "          31       0.69      0.92      0.79        12\n",
      "          32       1.00      0.00      0.00         4\n",
      "          33       1.00      0.00      0.00         2\n",
      "          34       0.88      0.88      0.88         8\n",
      "          35       0.33      1.00      0.50         2\n",
      "          36       0.28      1.00      0.43         5\n",
      "          37       1.00      0.50      0.67         2\n",
      "          38       0.44      0.67      0.53         6\n",
      "          39       0.00      0.00      0.00         1\n",
      "          40       1.00      0.67      0.80         3\n",
      "          41       0.43      1.00      0.60         6\n",
      "          42       1.00      0.50      0.67         8\n",
      "          43       1.00      0.00      0.00         1\n",
      "          44       0.82      0.64      0.72        14\n",
      "          45       1.00      1.00      1.00         2\n",
      "          46       1.00      0.00      0.00         5\n",
      "          47       1.00      0.00      0.00         5\n",
      "          48       1.00      0.00      0.00         2\n",
      "          49       1.00      0.00      0.00         7\n",
      "          50       0.80      0.57      0.67         7\n",
      "\n",
      "    accuracy                           0.59       301\n",
      "   macro avg       0.81      0.55      0.50       301\n",
      "weighted avg       0.82      0.59      0.55       301\n",
      "\n",
      "\n",
      "\n",
      "precision score 0.8128101793038458\n"
     ]
    }
   ],
   "source": [
    "# using Ada boost\n",
    "from sklearn.ensemble import AdaBoostClassifier\n",
    "abc=AdaBoostClassifier(n_estimators=200,learning_rate=0.1,random_state=42)\n",
    "abc.fit(x_train,y_train)\n",
    "predm=abc.predict(x_test)\n",
    "print('\\n')\n",
    "print(\"accuracy score of is\",accuracy_score(y_test,predm))\n",
    "print('\\n')\n",
    "print(confusion_matrix(y_test,predm))\n",
    "print('\\n')\n",
    "print(classification_report(y_test,predm,zero_division=1))\n",
    "print('\\n')\n",
    "print(\"precision score\",precision_score(y_test,predm,average='macro',zero_division=1))\n"
   ]
  },
  {
   "cell_type": "markdown",
   "metadata": {},
   "source": [
    "- from all the models used __randomforestclassifier__ is giving best accuracy score.\n",
    "- so now lets check again the model"
   ]
  },
  {
   "cell_type": "markdown",
   "metadata": {},
   "source": [
    "#### Best model- Randomforestclassifier"
   ]
  },
  {
   "cell_type": "code",
   "execution_count": 75,
   "metadata": {},
   "outputs": [
    {
     "name": "stdout",
     "output_type": "stream",
     "text": [
      "\n",
      "\n",
      "accuracy score of is 0.9601328903654485\n",
      "\n",
      "\n",
      "[[10  0  0 ...  0  0  0]\n",
      " [ 0 16  0 ...  0  0  0]\n",
      " [ 0  0 13 ...  0  0  0]\n",
      " ...\n",
      " [ 0  0  0 ...  2  0  0]\n",
      " [ 0  0  0 ...  0  7  0]\n",
      " [ 0  0  0 ...  0  0  7]]\n",
      "\n",
      "\n",
      "              precision    recall  f1-score   support\n",
      "\n",
      "           0       0.83      1.00      0.91        10\n",
      "           1       1.00      1.00      1.00        16\n",
      "           2       1.00      1.00      1.00        13\n",
      "           3       1.00      1.00      1.00         5\n",
      "           4       1.00      1.00      1.00         7\n",
      "           5       1.00      1.00      1.00         7\n",
      "           6       0.95      1.00      0.97        18\n",
      "           7       0.86      1.00      0.92         6\n",
      "           8       1.00      1.00      1.00         7\n",
      "           9       1.00      1.00      1.00         9\n",
      "          10       1.00      0.80      0.89         5\n",
      "          11       1.00      1.00      1.00         2\n",
      "          12       1.00      1.00      1.00        11\n",
      "          13       1.00      1.00      1.00         4\n",
      "          14       1.00      1.00      1.00         3\n",
      "          15       1.00      1.00      1.00        10\n",
      "          16       0.50      1.00      0.67         1\n",
      "          17       0.71      0.83      0.77         6\n",
      "          18       1.00      1.00      1.00         5\n",
      "          19       1.00      1.00      1.00         8\n",
      "          20       1.00      1.00      1.00         1\n",
      "          22       1.00      0.83      0.91         6\n",
      "          23       1.00      1.00      1.00         5\n",
      "          24       1.00      1.00      1.00         5\n",
      "          25       1.00      1.00      1.00         8\n",
      "          26       1.00      1.00      1.00         6\n",
      "          28       1.00      0.86      0.92         7\n",
      "          29       1.00      0.80      0.89         5\n",
      "          30       1.00      1.00      1.00         3\n",
      "          31       0.77      0.83      0.80        12\n",
      "          32       1.00      1.00      1.00         4\n",
      "          33       1.00      1.00      1.00         2\n",
      "          34       1.00      1.00      1.00         8\n",
      "          35       1.00      0.50      0.67         2\n",
      "          36       1.00      1.00      1.00         5\n",
      "          37       1.00      1.00      1.00         2\n",
      "          38       1.00      0.67      0.80         6\n",
      "          39       1.00      1.00      1.00         1\n",
      "          40       1.00      1.00      1.00         3\n",
      "          41       1.00      1.00      1.00         6\n",
      "          42       1.00      0.88      0.93         8\n",
      "          43       1.00      1.00      1.00         1\n",
      "          44       1.00      1.00      1.00        14\n",
      "          45       1.00      1.00      1.00         2\n",
      "          46       1.00      0.80      0.89         5\n",
      "          47       0.83      1.00      0.91         5\n",
      "          48       1.00      1.00      1.00         2\n",
      "          49       1.00      1.00      1.00         7\n",
      "          50       0.88      1.00      0.93         7\n",
      "\n",
      "    accuracy                           0.96       301\n",
      "   macro avg       0.97      0.96      0.95       301\n",
      "weighted avg       0.97      0.96      0.96       301\n",
      "\n",
      "\n",
      "\n",
      "precision score 0.965912131191401\n"
     ]
    }
   ],
   "source": [
    "#random forest\n",
    "from sklearn.ensemble import RandomForestClassifier\n",
    "rfc=RandomForestClassifier(n_estimators=50,random_state=42)\n",
    "rfc.fit(x_train,y_train)\n",
    "predm=rfc.predict(x_test)\n",
    "print('\\n')\n",
    "print(\"accuracy score of is\",accuracy_score(y_test,predm))\n",
    "print('\\n')\n",
    "print(confusion_matrix(y_test,predm))\n",
    "print('\\n')\n",
    "print(classification_report(y_test,predm,zero_division=1))\n",
    "print('\\n')\n",
    "print(\"precision score\",precision_score(y_test,predm,average='macro',zero_division=1))"
   ]
  },
  {
   "cell_type": "markdown",
   "metadata": {},
   "source": [
    "### saving the best model"
   ]
  },
  {
   "cell_type": "code",
   "execution_count": 77,
   "metadata": {},
   "outputs": [
    {
     "data": {
      "text/plain": [
       "['rfc.avacado.pkl']"
      ]
     },
     "execution_count": 77,
     "metadata": {},
     "output_type": "execute_result"
    }
   ],
   "source": [
    "import joblib\n",
    "joblib.dump(rfc,\"rfc.avacado.pkl\")"
   ]
  },
  {
   "cell_type": "markdown",
   "metadata": {},
   "source": [
    "### Conclusion:"
   ]
  },
  {
   "cell_type": "markdown",
   "metadata": {},
   "source": [
    "- EDA has been carried out using Pandas and other plotting libraries\n",
    "- Doing preproceesing in dataset helps in dealing with missing values and irregualities present in the data\n",
    "- Thorough the graph we can analyse the impact of columns like type, year/date on the Average price.\n",
    "- With the help of zscore also remove outliners which may effect the machine performance.\n",
    "- In regression techique i use different regression algorithm and also used best param and ensemble methods to avoid overfitting.\n",
    "- In classification techique,firstly target variable was converted to numeric using Label encoder,then i use different classification algorithm and also used best param and ensemble methods to avoid overfitting and reduce error.\n",
    "- I came to know through analysis which model will be work with better accuracy with the help of low errors and high accuracy.\n",
    "- using joblib save the best model for both the task"
   ]
  },
  {
   "cell_type": "code",
   "execution_count": null,
   "metadata": {},
   "outputs": [],
   "source": []
  }
 ],
 "metadata": {
  "kernelspec": {
   "display_name": "Python 3",
   "language": "python",
   "name": "python3"
  },
  "language_info": {
   "codemirror_mode": {
    "name": "ipython",
    "version": 3
   },
   "file_extension": ".py",
   "mimetype": "text/x-python",
   "name": "python",
   "nbconvert_exporter": "python",
   "pygments_lexer": "ipython3",
   "version": "3.7.6"
  }
 },
 "nbformat": 4,
 "nbformat_minor": 4
}
